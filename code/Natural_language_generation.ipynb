{
  "nbformat": 4,
  "nbformat_minor": 0,
  "metadata": {
    "colab": {
      "name": "NLG.ipynb",
      "provenance": [],
      "collapsed_sections": [],
      "machine_shape": "hm"
    },
    "kernelspec": {
      "name": "python3",
      "display_name": "Python 3"
    },
    "accelerator": "GPU",
    "widgets": {
      "application/vnd.jupyter.widget-state+json": {
        "dd5ab824615344639ffd4309b2ef44f0": {
          "model_module": "@jupyter-widgets/controls",
          "model_name": "HBoxModel",
          "state": {
            "_view_name": "HBoxView",
            "_dom_classes": [],
            "_model_name": "HBoxModel",
            "_view_module": "@jupyter-widgets/controls",
            "_model_module_version": "1.5.0",
            "_view_count": null,
            "_view_module_version": "1.5.0",
            "box_style": "",
            "layout": "IPY_MODEL_1c58565f0d6a4ac5ab6f6d652d6ce4bd",
            "_model_module": "@jupyter-widgets/controls",
            "children": [
              "IPY_MODEL_8e359b41b5774e87866a38223bfb5bea",
              "IPY_MODEL_dd00c6bef8dd46b5b301704af953f7aa"
            ]
          }
        },
        "1c58565f0d6a4ac5ab6f6d652d6ce4bd": {
          "model_module": "@jupyter-widgets/base",
          "model_name": "LayoutModel",
          "state": {
            "_view_name": "LayoutView",
            "grid_template_rows": null,
            "right": null,
            "justify_content": null,
            "_view_module": "@jupyter-widgets/base",
            "overflow": null,
            "_model_module_version": "1.2.0",
            "_view_count": null,
            "flex_flow": null,
            "width": null,
            "min_width": null,
            "border": null,
            "align_items": null,
            "bottom": null,
            "_model_module": "@jupyter-widgets/base",
            "top": null,
            "grid_column": null,
            "overflow_y": null,
            "overflow_x": null,
            "grid_auto_flow": null,
            "grid_area": null,
            "grid_template_columns": null,
            "flex": null,
            "_model_name": "LayoutModel",
            "justify_items": null,
            "grid_row": null,
            "max_height": null,
            "align_content": null,
            "visibility": null,
            "align_self": null,
            "height": null,
            "min_height": null,
            "padding": null,
            "grid_auto_rows": null,
            "grid_gap": null,
            "max_width": null,
            "order": null,
            "_view_module_version": "1.2.0",
            "grid_template_areas": null,
            "object_position": null,
            "object_fit": null,
            "grid_auto_columns": null,
            "margin": null,
            "display": null,
            "left": null
          }
        },
        "8e359b41b5774e87866a38223bfb5bea": {
          "model_module": "@jupyter-widgets/controls",
          "model_name": "FloatProgressModel",
          "state": {
            "_view_name": "ProgressView",
            "style": "IPY_MODEL_51a253fd21274873976d7baf92c32112",
            "_dom_classes": [],
            "description": "Epochs : 100%",
            "_model_name": "FloatProgressModel",
            "bar_style": "",
            "max": 50,
            "_view_module": "@jupyter-widgets/controls",
            "_model_module_version": "1.5.0",
            "value": 50,
            "_view_count": null,
            "_view_module_version": "1.5.0",
            "orientation": "horizontal",
            "min": 0,
            "description_tooltip": null,
            "_model_module": "@jupyter-widgets/controls",
            "layout": "IPY_MODEL_a768519018c1491cae52327f201142ed"
          }
        },
        "dd00c6bef8dd46b5b301704af953f7aa": {
          "model_module": "@jupyter-widgets/controls",
          "model_name": "HTMLModel",
          "state": {
            "_view_name": "HTMLView",
            "style": "IPY_MODEL_ce01b15f57e74bbfb88b62ac83c81e57",
            "_dom_classes": [],
            "description": "",
            "_model_name": "HTMLModel",
            "placeholder": "​",
            "_view_module": "@jupyter-widgets/controls",
            "_model_module_version": "1.5.0",
            "value": " 50/50 [32:53&lt;00:00, 41.44s/it]",
            "_view_count": null,
            "_view_module_version": "1.5.0",
            "description_tooltip": null,
            "_model_module": "@jupyter-widgets/controls",
            "layout": "IPY_MODEL_3e00e9bae4dd485486b8066f79ae494f"
          }
        },
        "51a253fd21274873976d7baf92c32112": {
          "model_module": "@jupyter-widgets/controls",
          "model_name": "ProgressStyleModel",
          "state": {
            "_view_name": "StyleView",
            "_model_name": "ProgressStyleModel",
            "description_width": "initial",
            "_view_module": "@jupyter-widgets/base",
            "_model_module_version": "1.5.0",
            "_view_count": null,
            "_view_module_version": "1.2.0",
            "bar_color": null,
            "_model_module": "@jupyter-widgets/controls"
          }
        },
        "a768519018c1491cae52327f201142ed": {
          "model_module": "@jupyter-widgets/base",
          "model_name": "LayoutModel",
          "state": {
            "_view_name": "LayoutView",
            "grid_template_rows": null,
            "right": null,
            "justify_content": null,
            "_view_module": "@jupyter-widgets/base",
            "overflow": null,
            "_model_module_version": "1.2.0",
            "_view_count": null,
            "flex_flow": null,
            "width": null,
            "min_width": null,
            "border": null,
            "align_items": null,
            "bottom": null,
            "_model_module": "@jupyter-widgets/base",
            "top": null,
            "grid_column": null,
            "overflow_y": null,
            "overflow_x": null,
            "grid_auto_flow": null,
            "grid_area": null,
            "grid_template_columns": null,
            "flex": null,
            "_model_name": "LayoutModel",
            "justify_items": null,
            "grid_row": null,
            "max_height": null,
            "align_content": null,
            "visibility": null,
            "align_self": null,
            "height": null,
            "min_height": null,
            "padding": null,
            "grid_auto_rows": null,
            "grid_gap": null,
            "max_width": null,
            "order": null,
            "_view_module_version": "1.2.0",
            "grid_template_areas": null,
            "object_position": null,
            "object_fit": null,
            "grid_auto_columns": null,
            "margin": null,
            "display": null,
            "left": null
          }
        },
        "ce01b15f57e74bbfb88b62ac83c81e57": {
          "model_module": "@jupyter-widgets/controls",
          "model_name": "DescriptionStyleModel",
          "state": {
            "_view_name": "StyleView",
            "_model_name": "DescriptionStyleModel",
            "description_width": "",
            "_view_module": "@jupyter-widgets/base",
            "_model_module_version": "1.5.0",
            "_view_count": null,
            "_view_module_version": "1.2.0",
            "_model_module": "@jupyter-widgets/controls"
          }
        },
        "3e00e9bae4dd485486b8066f79ae494f": {
          "model_module": "@jupyter-widgets/base",
          "model_name": "LayoutModel",
          "state": {
            "_view_name": "LayoutView",
            "grid_template_rows": null,
            "right": null,
            "justify_content": null,
            "_view_module": "@jupyter-widgets/base",
            "overflow": null,
            "_model_module_version": "1.2.0",
            "_view_count": null,
            "flex_flow": null,
            "width": null,
            "min_width": null,
            "border": null,
            "align_items": null,
            "bottom": null,
            "_model_module": "@jupyter-widgets/base",
            "top": null,
            "grid_column": null,
            "overflow_y": null,
            "overflow_x": null,
            "grid_auto_flow": null,
            "grid_area": null,
            "grid_template_columns": null,
            "flex": null,
            "_model_name": "LayoutModel",
            "justify_items": null,
            "grid_row": null,
            "max_height": null,
            "align_content": null,
            "visibility": null,
            "align_self": null,
            "height": null,
            "min_height": null,
            "padding": null,
            "grid_auto_rows": null,
            "grid_gap": null,
            "max_width": null,
            "order": null,
            "_view_module_version": "1.2.0",
            "grid_template_areas": null,
            "object_position": null,
            "object_fit": null,
            "grid_auto_columns": null,
            "margin": null,
            "display": null,
            "left": null
          }
        },
        "c8a3f64663f34e758cdf1499b55c607a": {
          "model_module": "@jupyter-widgets/controls",
          "model_name": "HBoxModel",
          "state": {
            "_view_name": "HBoxView",
            "_dom_classes": [],
            "_model_name": "HBoxModel",
            "_view_module": "@jupyter-widgets/controls",
            "_model_module_version": "1.5.0",
            "_view_count": null,
            "_view_module_version": "1.5.0",
            "box_style": "",
            "layout": "IPY_MODEL_4fe7320a9722402abb26dde02fd7b2d5",
            "_model_module": "@jupyter-widgets/controls",
            "children": [
              "IPY_MODEL_ca8264faef3548e596963471bad2cad1",
              "IPY_MODEL_4e0bff315a8645c0b65385769c9d23a6"
            ]
          }
        },
        "4fe7320a9722402abb26dde02fd7b2d5": {
          "model_module": "@jupyter-widgets/base",
          "model_name": "LayoutModel",
          "state": {
            "_view_name": "LayoutView",
            "grid_template_rows": null,
            "right": null,
            "justify_content": null,
            "_view_module": "@jupyter-widgets/base",
            "overflow": null,
            "_model_module_version": "1.2.0",
            "_view_count": null,
            "flex_flow": null,
            "width": null,
            "min_width": null,
            "border": null,
            "align_items": null,
            "bottom": null,
            "_model_module": "@jupyter-widgets/base",
            "top": null,
            "grid_column": null,
            "overflow_y": null,
            "overflow_x": null,
            "grid_auto_flow": null,
            "grid_area": null,
            "grid_template_columns": null,
            "flex": null,
            "_model_name": "LayoutModel",
            "justify_items": null,
            "grid_row": null,
            "max_height": null,
            "align_content": null,
            "visibility": null,
            "align_self": null,
            "height": null,
            "min_height": null,
            "padding": null,
            "grid_auto_rows": null,
            "grid_gap": null,
            "max_width": null,
            "order": null,
            "_view_module_version": "1.2.0",
            "grid_template_areas": null,
            "object_position": null,
            "object_fit": null,
            "grid_auto_columns": null,
            "margin": null,
            "display": null,
            "left": null
          }
        },
        "ca8264faef3548e596963471bad2cad1": {
          "model_module": "@jupyter-widgets/controls",
          "model_name": "FloatProgressModel",
          "state": {
            "_view_name": "ProgressView",
            "style": "IPY_MODEL_0b1baeb758b948dea81381bf59e7578b",
            "_dom_classes": [],
            "description": "Batch Status : 100%",
            "_model_name": "FloatProgressModel",
            "bar_style": "",
            "max": 4770,
            "_view_module": "@jupyter-widgets/controls",
            "_model_module_version": "1.5.0",
            "value": 4770,
            "_view_count": null,
            "_view_module_version": "1.5.0",
            "orientation": "horizontal",
            "min": 0,
            "description_tooltip": null,
            "_model_module": "@jupyter-widgets/controls",
            "layout": "IPY_MODEL_8505dee8522547b7a0a8a85d2ab22980"
          }
        },
        "4e0bff315a8645c0b65385769c9d23a6": {
          "model_module": "@jupyter-widgets/controls",
          "model_name": "HTMLModel",
          "state": {
            "_view_name": "HTMLView",
            "style": "IPY_MODEL_f3cc4d6d320442daa0917fc755170d42",
            "_dom_classes": [],
            "description": "",
            "_model_name": "HTMLModel",
            "placeholder": "​",
            "_view_module": "@jupyter-widgets/controls",
            "_model_module_version": "1.5.0",
            "value": " 4770/4770 [00:57&lt;00:00, 116.14it/s]",
            "_view_count": null,
            "_view_module_version": "1.5.0",
            "description_tooltip": null,
            "_model_module": "@jupyter-widgets/controls",
            "layout": "IPY_MODEL_676ac039e15b4fd19f61e84c126e397e"
          }
        },
        "0b1baeb758b948dea81381bf59e7578b": {
          "model_module": "@jupyter-widgets/controls",
          "model_name": "ProgressStyleModel",
          "state": {
            "_view_name": "StyleView",
            "_model_name": "ProgressStyleModel",
            "description_width": "initial",
            "_view_module": "@jupyter-widgets/base",
            "_model_module_version": "1.5.0",
            "_view_count": null,
            "_view_module_version": "1.2.0",
            "bar_color": null,
            "_model_module": "@jupyter-widgets/controls"
          }
        },
        "8505dee8522547b7a0a8a85d2ab22980": {
          "model_module": "@jupyter-widgets/base",
          "model_name": "LayoutModel",
          "state": {
            "_view_name": "LayoutView",
            "grid_template_rows": null,
            "right": null,
            "justify_content": null,
            "_view_module": "@jupyter-widgets/base",
            "overflow": null,
            "_model_module_version": "1.2.0",
            "_view_count": null,
            "flex_flow": null,
            "width": null,
            "min_width": null,
            "border": null,
            "align_items": null,
            "bottom": null,
            "_model_module": "@jupyter-widgets/base",
            "top": null,
            "grid_column": null,
            "overflow_y": null,
            "overflow_x": null,
            "grid_auto_flow": null,
            "grid_area": null,
            "grid_template_columns": null,
            "flex": null,
            "_model_name": "LayoutModel",
            "justify_items": null,
            "grid_row": null,
            "max_height": null,
            "align_content": null,
            "visibility": null,
            "align_self": null,
            "height": null,
            "min_height": null,
            "padding": null,
            "grid_auto_rows": null,
            "grid_gap": null,
            "max_width": null,
            "order": null,
            "_view_module_version": "1.2.0",
            "grid_template_areas": null,
            "object_position": null,
            "object_fit": null,
            "grid_auto_columns": null,
            "margin": null,
            "display": null,
            "left": null
          }
        },
        "f3cc4d6d320442daa0917fc755170d42": {
          "model_module": "@jupyter-widgets/controls",
          "model_name": "DescriptionStyleModel",
          "state": {
            "_view_name": "StyleView",
            "_model_name": "DescriptionStyleModel",
            "description_width": "",
            "_view_module": "@jupyter-widgets/base",
            "_model_module_version": "1.5.0",
            "_view_count": null,
            "_view_module_version": "1.2.0",
            "_model_module": "@jupyter-widgets/controls"
          }
        },
        "676ac039e15b4fd19f61e84c126e397e": {
          "model_module": "@jupyter-widgets/base",
          "model_name": "LayoutModel",
          "state": {
            "_view_name": "LayoutView",
            "grid_template_rows": null,
            "right": null,
            "justify_content": null,
            "_view_module": "@jupyter-widgets/base",
            "overflow": null,
            "_model_module_version": "1.2.0",
            "_view_count": null,
            "flex_flow": null,
            "width": null,
            "min_width": null,
            "border": null,
            "align_items": null,
            "bottom": null,
            "_model_module": "@jupyter-widgets/base",
            "top": null,
            "grid_column": null,
            "overflow_y": null,
            "overflow_x": null,
            "grid_auto_flow": null,
            "grid_area": null,
            "grid_template_columns": null,
            "flex": null,
            "_model_name": "LayoutModel",
            "justify_items": null,
            "grid_row": null,
            "max_height": null,
            "align_content": null,
            "visibility": null,
            "align_self": null,
            "height": null,
            "min_height": null,
            "padding": null,
            "grid_auto_rows": null,
            "grid_gap": null,
            "max_width": null,
            "order": null,
            "_view_module_version": "1.2.0",
            "grid_template_areas": null,
            "object_position": null,
            "object_fit": null,
            "grid_auto_columns": null,
            "margin": null,
            "display": null,
            "left": null
          }
        },
        "c7a30b41871d470b831bbcebf6ce377c": {
          "model_module": "@jupyter-widgets/controls",
          "model_name": "HBoxModel",
          "state": {
            "_view_name": "HBoxView",
            "_dom_classes": [],
            "_model_name": "HBoxModel",
            "_view_module": "@jupyter-widgets/controls",
            "_model_module_version": "1.5.0",
            "_view_count": null,
            "_view_module_version": "1.5.0",
            "box_style": "",
            "layout": "IPY_MODEL_2c66e048cc2a4716ac04684cea631a2d",
            "_model_module": "@jupyter-widgets/controls",
            "children": [
              "IPY_MODEL_37f0da954c634c1a9d322d08bf968091",
              "IPY_MODEL_b2d1a5a0b8d94dd4825010932d40927d"
            ]
          }
        },
        "2c66e048cc2a4716ac04684cea631a2d": {
          "model_module": "@jupyter-widgets/base",
          "model_name": "LayoutModel",
          "state": {
            "_view_name": "LayoutView",
            "grid_template_rows": null,
            "right": null,
            "justify_content": null,
            "_view_module": "@jupyter-widgets/base",
            "overflow": null,
            "_model_module_version": "1.2.0",
            "_view_count": null,
            "flex_flow": null,
            "width": null,
            "min_width": null,
            "border": null,
            "align_items": null,
            "bottom": null,
            "_model_module": "@jupyter-widgets/base",
            "top": null,
            "grid_column": null,
            "overflow_y": null,
            "overflow_x": null,
            "grid_auto_flow": null,
            "grid_area": null,
            "grid_template_columns": null,
            "flex": null,
            "_model_name": "LayoutModel",
            "justify_items": null,
            "grid_row": null,
            "max_height": null,
            "align_content": null,
            "visibility": null,
            "align_self": null,
            "height": null,
            "min_height": null,
            "padding": null,
            "grid_auto_rows": null,
            "grid_gap": null,
            "max_width": null,
            "order": null,
            "_view_module_version": "1.2.0",
            "grid_template_areas": null,
            "object_position": null,
            "object_fit": null,
            "grid_auto_columns": null,
            "margin": null,
            "display": null,
            "left": null
          }
        },
        "37f0da954c634c1a9d322d08bf968091": {
          "model_module": "@jupyter-widgets/controls",
          "model_name": "FloatProgressModel",
          "state": {
            "_view_name": "ProgressView",
            "style": "IPY_MODEL_1b7c8a70ee6e423c84df211045ae6299",
            "_dom_classes": [],
            "description": "Epochs : 100%",
            "_model_name": "FloatProgressModel",
            "bar_style": "",
            "max": 20,
            "_view_module": "@jupyter-widgets/controls",
            "_model_module_version": "1.5.0",
            "value": 20,
            "_view_count": null,
            "_view_module_version": "1.5.0",
            "orientation": "horizontal",
            "min": 0,
            "description_tooltip": null,
            "_model_module": "@jupyter-widgets/controls",
            "layout": "IPY_MODEL_c8a80108d12041ea91543a6b4d243af5"
          }
        },
        "b2d1a5a0b8d94dd4825010932d40927d": {
          "model_module": "@jupyter-widgets/controls",
          "model_name": "HTMLModel",
          "state": {
            "_view_name": "HTMLView",
            "style": "IPY_MODEL_ead323b246c94fd9a1689a76efe08877",
            "_dom_classes": [],
            "description": "",
            "_model_name": "HTMLModel",
            "placeholder": "​",
            "_view_module": "@jupyter-widgets/controls",
            "_model_module_version": "1.5.0",
            "value": " 20/20 [07:02&lt;00:00, 22.32s/it]",
            "_view_count": null,
            "_view_module_version": "1.5.0",
            "description_tooltip": null,
            "_model_module": "@jupyter-widgets/controls",
            "layout": "IPY_MODEL_854d0ffa8b3746c483a95b70e1ca2433"
          }
        },
        "1b7c8a70ee6e423c84df211045ae6299": {
          "model_module": "@jupyter-widgets/controls",
          "model_name": "ProgressStyleModel",
          "state": {
            "_view_name": "StyleView",
            "_model_name": "ProgressStyleModel",
            "description_width": "initial",
            "_view_module": "@jupyter-widgets/base",
            "_model_module_version": "1.5.0",
            "_view_count": null,
            "_view_module_version": "1.2.0",
            "bar_color": null,
            "_model_module": "@jupyter-widgets/controls"
          }
        },
        "c8a80108d12041ea91543a6b4d243af5": {
          "model_module": "@jupyter-widgets/base",
          "model_name": "LayoutModel",
          "state": {
            "_view_name": "LayoutView",
            "grid_template_rows": null,
            "right": null,
            "justify_content": null,
            "_view_module": "@jupyter-widgets/base",
            "overflow": null,
            "_model_module_version": "1.2.0",
            "_view_count": null,
            "flex_flow": null,
            "width": null,
            "min_width": null,
            "border": null,
            "align_items": null,
            "bottom": null,
            "_model_module": "@jupyter-widgets/base",
            "top": null,
            "grid_column": null,
            "overflow_y": null,
            "overflow_x": null,
            "grid_auto_flow": null,
            "grid_area": null,
            "grid_template_columns": null,
            "flex": null,
            "_model_name": "LayoutModel",
            "justify_items": null,
            "grid_row": null,
            "max_height": null,
            "align_content": null,
            "visibility": null,
            "align_self": null,
            "height": null,
            "min_height": null,
            "padding": null,
            "grid_auto_rows": null,
            "grid_gap": null,
            "max_width": null,
            "order": null,
            "_view_module_version": "1.2.0",
            "grid_template_areas": null,
            "object_position": null,
            "object_fit": null,
            "grid_auto_columns": null,
            "margin": null,
            "display": null,
            "left": null
          }
        },
        "ead323b246c94fd9a1689a76efe08877": {
          "model_module": "@jupyter-widgets/controls",
          "model_name": "DescriptionStyleModel",
          "state": {
            "_view_name": "StyleView",
            "_model_name": "DescriptionStyleModel",
            "description_width": "",
            "_view_module": "@jupyter-widgets/base",
            "_model_module_version": "1.5.0",
            "_view_count": null,
            "_view_module_version": "1.2.0",
            "_model_module": "@jupyter-widgets/controls"
          }
        },
        "854d0ffa8b3746c483a95b70e1ca2433": {
          "model_module": "@jupyter-widgets/base",
          "model_name": "LayoutModel",
          "state": {
            "_view_name": "LayoutView",
            "grid_template_rows": null,
            "right": null,
            "justify_content": null,
            "_view_module": "@jupyter-widgets/base",
            "overflow": null,
            "_model_module_version": "1.2.0",
            "_view_count": null,
            "flex_flow": null,
            "width": null,
            "min_width": null,
            "border": null,
            "align_items": null,
            "bottom": null,
            "_model_module": "@jupyter-widgets/base",
            "top": null,
            "grid_column": null,
            "overflow_y": null,
            "overflow_x": null,
            "grid_auto_flow": null,
            "grid_area": null,
            "grid_template_columns": null,
            "flex": null,
            "_model_name": "LayoutModel",
            "justify_items": null,
            "grid_row": null,
            "max_height": null,
            "align_content": null,
            "visibility": null,
            "align_self": null,
            "height": null,
            "min_height": null,
            "padding": null,
            "grid_auto_rows": null,
            "grid_gap": null,
            "max_width": null,
            "order": null,
            "_view_module_version": "1.2.0",
            "grid_template_areas": null,
            "object_position": null,
            "object_fit": null,
            "grid_auto_columns": null,
            "margin": null,
            "display": null,
            "left": null
          }
        },
        "807052edc28947678893dbad94069b13": {
          "model_module": "@jupyter-widgets/controls",
          "model_name": "HBoxModel",
          "state": {
            "_view_name": "HBoxView",
            "_dom_classes": [],
            "_model_name": "HBoxModel",
            "_view_module": "@jupyter-widgets/controls",
            "_model_module_version": "1.5.0",
            "_view_count": null,
            "_view_module_version": "1.5.0",
            "box_style": "",
            "layout": "IPY_MODEL_eaae36d7012f4cabba0cd10f7cde9899",
            "_model_module": "@jupyter-widgets/controls",
            "children": [
              "IPY_MODEL_58bac534d148453c87b6b27cbd06c3e6",
              "IPY_MODEL_c1c0e7945a084bc39e8e186cc6433c25"
            ]
          }
        },
        "eaae36d7012f4cabba0cd10f7cde9899": {
          "model_module": "@jupyter-widgets/base",
          "model_name": "LayoutModel",
          "state": {
            "_view_name": "LayoutView",
            "grid_template_rows": null,
            "right": null,
            "justify_content": null,
            "_view_module": "@jupyter-widgets/base",
            "overflow": null,
            "_model_module_version": "1.2.0",
            "_view_count": null,
            "flex_flow": null,
            "width": null,
            "min_width": null,
            "border": null,
            "align_items": null,
            "bottom": null,
            "_model_module": "@jupyter-widgets/base",
            "top": null,
            "grid_column": null,
            "overflow_y": null,
            "overflow_x": null,
            "grid_auto_flow": null,
            "grid_area": null,
            "grid_template_columns": null,
            "flex": null,
            "_model_name": "LayoutModel",
            "justify_items": null,
            "grid_row": null,
            "max_height": null,
            "align_content": null,
            "visibility": null,
            "align_self": null,
            "height": null,
            "min_height": null,
            "padding": null,
            "grid_auto_rows": null,
            "grid_gap": null,
            "max_width": null,
            "order": null,
            "_view_module_version": "1.2.0",
            "grid_template_areas": null,
            "object_position": null,
            "object_fit": null,
            "grid_auto_columns": null,
            "margin": null,
            "display": null,
            "left": null
          }
        },
        "58bac534d148453c87b6b27cbd06c3e6": {
          "model_module": "@jupyter-widgets/controls",
          "model_name": "FloatProgressModel",
          "state": {
            "_view_name": "ProgressView",
            "style": "IPY_MODEL_7ceaf3e1271e4df4a8b2cde3f41bcdae",
            "_dom_classes": [],
            "description": "Batch Status : 100%",
            "_model_name": "FloatProgressModel",
            "bar_style": "",
            "max": 2855,
            "_view_module": "@jupyter-widgets/controls",
            "_model_module_version": "1.5.0",
            "value": 2855,
            "_view_count": null,
            "_view_module_version": "1.5.0",
            "orientation": "horizontal",
            "min": 0,
            "description_tooltip": null,
            "_model_module": "@jupyter-widgets/controls",
            "layout": "IPY_MODEL_5db74456f7ab437385b2b3e3ed61bcea"
          }
        },
        "c1c0e7945a084bc39e8e186cc6433c25": {
          "model_module": "@jupyter-widgets/controls",
          "model_name": "HTMLModel",
          "state": {
            "_view_name": "HTMLView",
            "style": "IPY_MODEL_60cce9f369ea44dfb62a72a2d451080b",
            "_dom_classes": [],
            "description": "",
            "_model_name": "HTMLModel",
            "placeholder": "​",
            "_view_module": "@jupyter-widgets/controls",
            "_model_module_version": "1.5.0",
            "value": " 2855/2855 [00:40&lt;00:00, 130.76it/s]",
            "_view_count": null,
            "_view_module_version": "1.5.0",
            "description_tooltip": null,
            "_model_module": "@jupyter-widgets/controls",
            "layout": "IPY_MODEL_57f8c1ebf5d7488f8b51daedc919916d"
          }
        },
        "7ceaf3e1271e4df4a8b2cde3f41bcdae": {
          "model_module": "@jupyter-widgets/controls",
          "model_name": "ProgressStyleModel",
          "state": {
            "_view_name": "StyleView",
            "_model_name": "ProgressStyleModel",
            "description_width": "initial",
            "_view_module": "@jupyter-widgets/base",
            "_model_module_version": "1.5.0",
            "_view_count": null,
            "_view_module_version": "1.2.0",
            "bar_color": null,
            "_model_module": "@jupyter-widgets/controls"
          }
        },
        "5db74456f7ab437385b2b3e3ed61bcea": {
          "model_module": "@jupyter-widgets/base",
          "model_name": "LayoutModel",
          "state": {
            "_view_name": "LayoutView",
            "grid_template_rows": null,
            "right": null,
            "justify_content": null,
            "_view_module": "@jupyter-widgets/base",
            "overflow": null,
            "_model_module_version": "1.2.0",
            "_view_count": null,
            "flex_flow": null,
            "width": null,
            "min_width": null,
            "border": null,
            "align_items": null,
            "bottom": null,
            "_model_module": "@jupyter-widgets/base",
            "top": null,
            "grid_column": null,
            "overflow_y": null,
            "overflow_x": null,
            "grid_auto_flow": null,
            "grid_area": null,
            "grid_template_columns": null,
            "flex": null,
            "_model_name": "LayoutModel",
            "justify_items": null,
            "grid_row": null,
            "max_height": null,
            "align_content": null,
            "visibility": null,
            "align_self": null,
            "height": null,
            "min_height": null,
            "padding": null,
            "grid_auto_rows": null,
            "grid_gap": null,
            "max_width": null,
            "order": null,
            "_view_module_version": "1.2.0",
            "grid_template_areas": null,
            "object_position": null,
            "object_fit": null,
            "grid_auto_columns": null,
            "margin": null,
            "display": null,
            "left": null
          }
        },
        "60cce9f369ea44dfb62a72a2d451080b": {
          "model_module": "@jupyter-widgets/controls",
          "model_name": "DescriptionStyleModel",
          "state": {
            "_view_name": "StyleView",
            "_model_name": "DescriptionStyleModel",
            "description_width": "",
            "_view_module": "@jupyter-widgets/base",
            "_model_module_version": "1.5.0",
            "_view_count": null,
            "_view_module_version": "1.2.0",
            "_model_module": "@jupyter-widgets/controls"
          }
        },
        "57f8c1ebf5d7488f8b51daedc919916d": {
          "model_module": "@jupyter-widgets/base",
          "model_name": "LayoutModel",
          "state": {
            "_view_name": "LayoutView",
            "grid_template_rows": null,
            "right": null,
            "justify_content": null,
            "_view_module": "@jupyter-widgets/base",
            "overflow": null,
            "_model_module_version": "1.2.0",
            "_view_count": null,
            "flex_flow": null,
            "width": null,
            "min_width": null,
            "border": null,
            "align_items": null,
            "bottom": null,
            "_model_module": "@jupyter-widgets/base",
            "top": null,
            "grid_column": null,
            "overflow_y": null,
            "overflow_x": null,
            "grid_auto_flow": null,
            "grid_area": null,
            "grid_template_columns": null,
            "flex": null,
            "_model_name": "LayoutModel",
            "justify_items": null,
            "grid_row": null,
            "max_height": null,
            "align_content": null,
            "visibility": null,
            "align_self": null,
            "height": null,
            "min_height": null,
            "padding": null,
            "grid_auto_rows": null,
            "grid_gap": null,
            "max_width": null,
            "order": null,
            "_view_module_version": "1.2.0",
            "grid_template_areas": null,
            "object_position": null,
            "object_fit": null,
            "grid_auto_columns": null,
            "margin": null,
            "display": null,
            "left": null
          }
        },
        "15748a07983349958f10b78fa5313f64": {
          "model_module": "@jupyter-widgets/controls",
          "model_name": "HBoxModel",
          "state": {
            "_view_name": "HBoxView",
            "_dom_classes": [],
            "_model_name": "HBoxModel",
            "_view_module": "@jupyter-widgets/controls",
            "_model_module_version": "1.5.0",
            "_view_count": null,
            "_view_module_version": "1.5.0",
            "box_style": "",
            "layout": "IPY_MODEL_d47d66c80d254d269a9b9ac62fe9453b",
            "_model_module": "@jupyter-widgets/controls",
            "children": [
              "IPY_MODEL_c577a357c95144818ad7861d44dee6fa",
              "IPY_MODEL_95eb465d6462421abf49c4f70bfe6e85"
            ]
          }
        },
        "d47d66c80d254d269a9b9ac62fe9453b": {
          "model_module": "@jupyter-widgets/base",
          "model_name": "LayoutModel",
          "state": {
            "_view_name": "LayoutView",
            "grid_template_rows": null,
            "right": null,
            "justify_content": null,
            "_view_module": "@jupyter-widgets/base",
            "overflow": null,
            "_model_module_version": "1.2.0",
            "_view_count": null,
            "flex_flow": null,
            "width": null,
            "min_width": null,
            "border": null,
            "align_items": null,
            "bottom": null,
            "_model_module": "@jupyter-widgets/base",
            "top": null,
            "grid_column": null,
            "overflow_y": null,
            "overflow_x": null,
            "grid_auto_flow": null,
            "grid_area": null,
            "grid_template_columns": null,
            "flex": null,
            "_model_name": "LayoutModel",
            "justify_items": null,
            "grid_row": null,
            "max_height": null,
            "align_content": null,
            "visibility": null,
            "align_self": null,
            "height": null,
            "min_height": null,
            "padding": null,
            "grid_auto_rows": null,
            "grid_gap": null,
            "max_width": null,
            "order": null,
            "_view_module_version": "1.2.0",
            "grid_template_areas": null,
            "object_position": null,
            "object_fit": null,
            "grid_auto_columns": null,
            "margin": null,
            "display": null,
            "left": null
          }
        },
        "c577a357c95144818ad7861d44dee6fa": {
          "model_module": "@jupyter-widgets/controls",
          "model_name": "FloatProgressModel",
          "state": {
            "_view_name": "ProgressView",
            "style": "IPY_MODEL_2c7673502c06490cbe6f31c826160701",
            "_dom_classes": [],
            "description": "Epochs : 100%",
            "_model_name": "FloatProgressModel",
            "bar_style": "",
            "max": 20,
            "_view_module": "@jupyter-widgets/controls",
            "_model_module_version": "1.5.0",
            "value": 20,
            "_view_count": null,
            "_view_module_version": "1.5.0",
            "orientation": "horizontal",
            "min": 0,
            "description_tooltip": null,
            "_model_module": "@jupyter-widgets/controls",
            "layout": "IPY_MODEL_c8d5c1cb98d2405cbe85f20a3aeef5ac"
          }
        },
        "95eb465d6462421abf49c4f70bfe6e85": {
          "model_module": "@jupyter-widgets/controls",
          "model_name": "HTMLModel",
          "state": {
            "_view_name": "HTMLView",
            "style": "IPY_MODEL_8aad359b2c404c6a8fa3e11c2b0d6c5f",
            "_dom_classes": [],
            "description": "",
            "_model_name": "HTMLModel",
            "placeholder": "​",
            "_view_module": "@jupyter-widgets/controls",
            "_model_module_version": "1.5.0",
            "value": " 20/20 [06:46&lt;00:00, 21.44s/it]",
            "_view_count": null,
            "_view_module_version": "1.5.0",
            "description_tooltip": null,
            "_model_module": "@jupyter-widgets/controls",
            "layout": "IPY_MODEL_2fc7b1b6ba6c4d439b321f6e2315a61e"
          }
        },
        "2c7673502c06490cbe6f31c826160701": {
          "model_module": "@jupyter-widgets/controls",
          "model_name": "ProgressStyleModel",
          "state": {
            "_view_name": "StyleView",
            "_model_name": "ProgressStyleModel",
            "description_width": "initial",
            "_view_module": "@jupyter-widgets/base",
            "_model_module_version": "1.5.0",
            "_view_count": null,
            "_view_module_version": "1.2.0",
            "bar_color": null,
            "_model_module": "@jupyter-widgets/controls"
          }
        },
        "c8d5c1cb98d2405cbe85f20a3aeef5ac": {
          "model_module": "@jupyter-widgets/base",
          "model_name": "LayoutModel",
          "state": {
            "_view_name": "LayoutView",
            "grid_template_rows": null,
            "right": null,
            "justify_content": null,
            "_view_module": "@jupyter-widgets/base",
            "overflow": null,
            "_model_module_version": "1.2.0",
            "_view_count": null,
            "flex_flow": null,
            "width": null,
            "min_width": null,
            "border": null,
            "align_items": null,
            "bottom": null,
            "_model_module": "@jupyter-widgets/base",
            "top": null,
            "grid_column": null,
            "overflow_y": null,
            "overflow_x": null,
            "grid_auto_flow": null,
            "grid_area": null,
            "grid_template_columns": null,
            "flex": null,
            "_model_name": "LayoutModel",
            "justify_items": null,
            "grid_row": null,
            "max_height": null,
            "align_content": null,
            "visibility": null,
            "align_self": null,
            "height": null,
            "min_height": null,
            "padding": null,
            "grid_auto_rows": null,
            "grid_gap": null,
            "max_width": null,
            "order": null,
            "_view_module_version": "1.2.0",
            "grid_template_areas": null,
            "object_position": null,
            "object_fit": null,
            "grid_auto_columns": null,
            "margin": null,
            "display": null,
            "left": null
          }
        },
        "8aad359b2c404c6a8fa3e11c2b0d6c5f": {
          "model_module": "@jupyter-widgets/controls",
          "model_name": "DescriptionStyleModel",
          "state": {
            "_view_name": "StyleView",
            "_model_name": "DescriptionStyleModel",
            "description_width": "",
            "_view_module": "@jupyter-widgets/base",
            "_model_module_version": "1.5.0",
            "_view_count": null,
            "_view_module_version": "1.2.0",
            "_model_module": "@jupyter-widgets/controls"
          }
        },
        "2fc7b1b6ba6c4d439b321f6e2315a61e": {
          "model_module": "@jupyter-widgets/base",
          "model_name": "LayoutModel",
          "state": {
            "_view_name": "LayoutView",
            "grid_template_rows": null,
            "right": null,
            "justify_content": null,
            "_view_module": "@jupyter-widgets/base",
            "overflow": null,
            "_model_module_version": "1.2.0",
            "_view_count": null,
            "flex_flow": null,
            "width": null,
            "min_width": null,
            "border": null,
            "align_items": null,
            "bottom": null,
            "_model_module": "@jupyter-widgets/base",
            "top": null,
            "grid_column": null,
            "overflow_y": null,
            "overflow_x": null,
            "grid_auto_flow": null,
            "grid_area": null,
            "grid_template_columns": null,
            "flex": null,
            "_model_name": "LayoutModel",
            "justify_items": null,
            "grid_row": null,
            "max_height": null,
            "align_content": null,
            "visibility": null,
            "align_self": null,
            "height": null,
            "min_height": null,
            "padding": null,
            "grid_auto_rows": null,
            "grid_gap": null,
            "max_width": null,
            "order": null,
            "_view_module_version": "1.2.0",
            "grid_template_areas": null,
            "object_position": null,
            "object_fit": null,
            "grid_auto_columns": null,
            "margin": null,
            "display": null,
            "left": null
          }
        },
        "4fb3cf831f4c4f4a846f9b3116ba7933": {
          "model_module": "@jupyter-widgets/controls",
          "model_name": "HBoxModel",
          "state": {
            "_view_name": "HBoxView",
            "_dom_classes": [],
            "_model_name": "HBoxModel",
            "_view_module": "@jupyter-widgets/controls",
            "_model_module_version": "1.5.0",
            "_view_count": null,
            "_view_module_version": "1.5.0",
            "box_style": "",
            "layout": "IPY_MODEL_8d610011400a4d4e9618428bcc1c5e81",
            "_model_module": "@jupyter-widgets/controls",
            "children": [
              "IPY_MODEL_fd308134245b4daeb3d1fbca68eb79e7",
              "IPY_MODEL_dde8846cb05640a08201c34675e1ab43"
            ]
          }
        },
        "8d610011400a4d4e9618428bcc1c5e81": {
          "model_module": "@jupyter-widgets/base",
          "model_name": "LayoutModel",
          "state": {
            "_view_name": "LayoutView",
            "grid_template_rows": null,
            "right": null,
            "justify_content": null,
            "_view_module": "@jupyter-widgets/base",
            "overflow": null,
            "_model_module_version": "1.2.0",
            "_view_count": null,
            "flex_flow": null,
            "width": null,
            "min_width": null,
            "border": null,
            "align_items": null,
            "bottom": null,
            "_model_module": "@jupyter-widgets/base",
            "top": null,
            "grid_column": null,
            "overflow_y": null,
            "overflow_x": null,
            "grid_auto_flow": null,
            "grid_area": null,
            "grid_template_columns": null,
            "flex": null,
            "_model_name": "LayoutModel",
            "justify_items": null,
            "grid_row": null,
            "max_height": null,
            "align_content": null,
            "visibility": null,
            "align_self": null,
            "height": null,
            "min_height": null,
            "padding": null,
            "grid_auto_rows": null,
            "grid_gap": null,
            "max_width": null,
            "order": null,
            "_view_module_version": "1.2.0",
            "grid_template_areas": null,
            "object_position": null,
            "object_fit": null,
            "grid_auto_columns": null,
            "margin": null,
            "display": null,
            "left": null
          }
        },
        "fd308134245b4daeb3d1fbca68eb79e7": {
          "model_module": "@jupyter-widgets/controls",
          "model_name": "FloatProgressModel",
          "state": {
            "_view_name": "ProgressView",
            "style": "IPY_MODEL_cc93758ff00d4121877f9a08101aa3e1",
            "_dom_classes": [],
            "description": "Batch Status : 100%",
            "_model_name": "FloatProgressModel",
            "bar_style": "",
            "max": 2717,
            "_view_module": "@jupyter-widgets/controls",
            "_model_module_version": "1.5.0",
            "value": 2717,
            "_view_count": null,
            "_view_module_version": "1.5.0",
            "orientation": "horizontal",
            "min": 0,
            "description_tooltip": null,
            "_model_module": "@jupyter-widgets/controls",
            "layout": "IPY_MODEL_ea0f3d3208fd4817a4a525a8ca6939a7"
          }
        },
        "dde8846cb05640a08201c34675e1ab43": {
          "model_module": "@jupyter-widgets/controls",
          "model_name": "HTMLModel",
          "state": {
            "_view_name": "HTMLView",
            "style": "IPY_MODEL_630e722742af4d1c84a720eb0fc664ad",
            "_dom_classes": [],
            "description": "",
            "_model_name": "HTMLModel",
            "placeholder": "​",
            "_view_module": "@jupyter-widgets/controls",
            "_model_module_version": "1.5.0",
            "value": " 2717/2717 [00:31&lt;00:00, 128.17it/s]",
            "_view_count": null,
            "_view_module_version": "1.5.0",
            "description_tooltip": null,
            "_model_module": "@jupyter-widgets/controls",
            "layout": "IPY_MODEL_bc2149133fff49928d3f9da93456bffa"
          }
        },
        "cc93758ff00d4121877f9a08101aa3e1": {
          "model_module": "@jupyter-widgets/controls",
          "model_name": "ProgressStyleModel",
          "state": {
            "_view_name": "StyleView",
            "_model_name": "ProgressStyleModel",
            "description_width": "initial",
            "_view_module": "@jupyter-widgets/base",
            "_model_module_version": "1.5.0",
            "_view_count": null,
            "_view_module_version": "1.2.0",
            "bar_color": null,
            "_model_module": "@jupyter-widgets/controls"
          }
        },
        "ea0f3d3208fd4817a4a525a8ca6939a7": {
          "model_module": "@jupyter-widgets/base",
          "model_name": "LayoutModel",
          "state": {
            "_view_name": "LayoutView",
            "grid_template_rows": null,
            "right": null,
            "justify_content": null,
            "_view_module": "@jupyter-widgets/base",
            "overflow": null,
            "_model_module_version": "1.2.0",
            "_view_count": null,
            "flex_flow": null,
            "width": null,
            "min_width": null,
            "border": null,
            "align_items": null,
            "bottom": null,
            "_model_module": "@jupyter-widgets/base",
            "top": null,
            "grid_column": null,
            "overflow_y": null,
            "overflow_x": null,
            "grid_auto_flow": null,
            "grid_area": null,
            "grid_template_columns": null,
            "flex": null,
            "_model_name": "LayoutModel",
            "justify_items": null,
            "grid_row": null,
            "max_height": null,
            "align_content": null,
            "visibility": null,
            "align_self": null,
            "height": null,
            "min_height": null,
            "padding": null,
            "grid_auto_rows": null,
            "grid_gap": null,
            "max_width": null,
            "order": null,
            "_view_module_version": "1.2.0",
            "grid_template_areas": null,
            "object_position": null,
            "object_fit": null,
            "grid_auto_columns": null,
            "margin": null,
            "display": null,
            "left": null
          }
        },
        "630e722742af4d1c84a720eb0fc664ad": {
          "model_module": "@jupyter-widgets/controls",
          "model_name": "DescriptionStyleModel",
          "state": {
            "_view_name": "StyleView",
            "_model_name": "DescriptionStyleModel",
            "description_width": "",
            "_view_module": "@jupyter-widgets/base",
            "_model_module_version": "1.5.0",
            "_view_count": null,
            "_view_module_version": "1.2.0",
            "_model_module": "@jupyter-widgets/controls"
          }
        },
        "bc2149133fff49928d3f9da93456bffa": {
          "model_module": "@jupyter-widgets/base",
          "model_name": "LayoutModel",
          "state": {
            "_view_name": "LayoutView",
            "grid_template_rows": null,
            "right": null,
            "justify_content": null,
            "_view_module": "@jupyter-widgets/base",
            "overflow": null,
            "_model_module_version": "1.2.0",
            "_view_count": null,
            "flex_flow": null,
            "width": null,
            "min_width": null,
            "border": null,
            "align_items": null,
            "bottom": null,
            "_model_module": "@jupyter-widgets/base",
            "top": null,
            "grid_column": null,
            "overflow_y": null,
            "overflow_x": null,
            "grid_auto_flow": null,
            "grid_area": null,
            "grid_template_columns": null,
            "flex": null,
            "_model_name": "LayoutModel",
            "justify_items": null,
            "grid_row": null,
            "max_height": null,
            "align_content": null,
            "visibility": null,
            "align_self": null,
            "height": null,
            "min_height": null,
            "padding": null,
            "grid_auto_rows": null,
            "grid_gap": null,
            "max_width": null,
            "order": null,
            "_view_module_version": "1.2.0",
            "grid_template_areas": null,
            "object_position": null,
            "object_fit": null,
            "grid_auto_columns": null,
            "margin": null,
            "display": null,
            "left": null
          }
        },
        "277a7204925a493db5600b1173c73a59": {
          "model_module": "@jupyter-widgets/controls",
          "model_name": "HBoxModel",
          "state": {
            "_view_name": "HBoxView",
            "_dom_classes": [],
            "_model_name": "HBoxModel",
            "_view_module": "@jupyter-widgets/controls",
            "_model_module_version": "1.5.0",
            "_view_count": null,
            "_view_module_version": "1.5.0",
            "box_style": "",
            "layout": "IPY_MODEL_5a10c3e574bd4f88ac248110e252eee9",
            "_model_module": "@jupyter-widgets/controls",
            "children": [
              "IPY_MODEL_df8832ca154245898a1385d72f73ebf4",
              "IPY_MODEL_f14386d31ecc4b3a9dcb76d93fdfaf4b"
            ]
          }
        },
        "5a10c3e574bd4f88ac248110e252eee9": {
          "model_module": "@jupyter-widgets/base",
          "model_name": "LayoutModel",
          "state": {
            "_view_name": "LayoutView",
            "grid_template_rows": null,
            "right": null,
            "justify_content": null,
            "_view_module": "@jupyter-widgets/base",
            "overflow": null,
            "_model_module_version": "1.2.0",
            "_view_count": null,
            "flex_flow": null,
            "width": null,
            "min_width": null,
            "border": null,
            "align_items": null,
            "bottom": null,
            "_model_module": "@jupyter-widgets/base",
            "top": null,
            "grid_column": null,
            "overflow_y": null,
            "overflow_x": null,
            "grid_auto_flow": null,
            "grid_area": null,
            "grid_template_columns": null,
            "flex": null,
            "_model_name": "LayoutModel",
            "justify_items": null,
            "grid_row": null,
            "max_height": null,
            "align_content": null,
            "visibility": null,
            "align_self": null,
            "height": null,
            "min_height": null,
            "padding": null,
            "grid_auto_rows": null,
            "grid_gap": null,
            "max_width": null,
            "order": null,
            "_view_module_version": "1.2.0",
            "grid_template_areas": null,
            "object_position": null,
            "object_fit": null,
            "grid_auto_columns": null,
            "margin": null,
            "display": null,
            "left": null
          }
        },
        "df8832ca154245898a1385d72f73ebf4": {
          "model_module": "@jupyter-widgets/controls",
          "model_name": "FloatProgressModel",
          "state": {
            "_view_name": "ProgressView",
            "style": "IPY_MODEL_c253ba2618674e2b897f70469cd3b406",
            "_dom_classes": [],
            "description": "100%",
            "_model_name": "FloatProgressModel",
            "bar_style": "success",
            "max": 973,
            "_view_module": "@jupyter-widgets/controls",
            "_model_module_version": "1.5.0",
            "value": 973,
            "_view_count": null,
            "_view_module_version": "1.5.0",
            "orientation": "horizontal",
            "min": 0,
            "description_tooltip": null,
            "_model_module": "@jupyter-widgets/controls",
            "layout": "IPY_MODEL_608e30974ae14c399d07e4a4c84b3a78"
          }
        },
        "f14386d31ecc4b3a9dcb76d93fdfaf4b": {
          "model_module": "@jupyter-widgets/controls",
          "model_name": "HTMLModel",
          "state": {
            "_view_name": "HTMLView",
            "style": "IPY_MODEL_f21fa908c14e43ff912e97e8eec336b2",
            "_dom_classes": [],
            "description": "",
            "_model_name": "HTMLModel",
            "placeholder": "​",
            "_view_module": "@jupyter-widgets/controls",
            "_model_module_version": "1.5.0",
            "value": " 973/973 [12:25&lt;00:00,  1.31it/s]",
            "_view_count": null,
            "_view_module_version": "1.5.0",
            "description_tooltip": null,
            "_model_module": "@jupyter-widgets/controls",
            "layout": "IPY_MODEL_9018900cf15840b8af077b397482ed8e"
          }
        },
        "c253ba2618674e2b897f70469cd3b406": {
          "model_module": "@jupyter-widgets/controls",
          "model_name": "ProgressStyleModel",
          "state": {
            "_view_name": "StyleView",
            "_model_name": "ProgressStyleModel",
            "description_width": "initial",
            "_view_module": "@jupyter-widgets/base",
            "_model_module_version": "1.5.0",
            "_view_count": null,
            "_view_module_version": "1.2.0",
            "bar_color": null,
            "_model_module": "@jupyter-widgets/controls"
          }
        },
        "608e30974ae14c399d07e4a4c84b3a78": {
          "model_module": "@jupyter-widgets/base",
          "model_name": "LayoutModel",
          "state": {
            "_view_name": "LayoutView",
            "grid_template_rows": null,
            "right": null,
            "justify_content": null,
            "_view_module": "@jupyter-widgets/base",
            "overflow": null,
            "_model_module_version": "1.2.0",
            "_view_count": null,
            "flex_flow": null,
            "width": null,
            "min_width": null,
            "border": null,
            "align_items": null,
            "bottom": null,
            "_model_module": "@jupyter-widgets/base",
            "top": null,
            "grid_column": null,
            "overflow_y": null,
            "overflow_x": null,
            "grid_auto_flow": null,
            "grid_area": null,
            "grid_template_columns": null,
            "flex": null,
            "_model_name": "LayoutModel",
            "justify_items": null,
            "grid_row": null,
            "max_height": null,
            "align_content": null,
            "visibility": null,
            "align_self": null,
            "height": null,
            "min_height": null,
            "padding": null,
            "grid_auto_rows": null,
            "grid_gap": null,
            "max_width": null,
            "order": null,
            "_view_module_version": "1.2.0",
            "grid_template_areas": null,
            "object_position": null,
            "object_fit": null,
            "grid_auto_columns": null,
            "margin": null,
            "display": null,
            "left": null
          }
        },
        "f21fa908c14e43ff912e97e8eec336b2": {
          "model_module": "@jupyter-widgets/controls",
          "model_name": "DescriptionStyleModel",
          "state": {
            "_view_name": "StyleView",
            "_model_name": "DescriptionStyleModel",
            "description_width": "",
            "_view_module": "@jupyter-widgets/base",
            "_model_module_version": "1.5.0",
            "_view_count": null,
            "_view_module_version": "1.2.0",
            "_model_module": "@jupyter-widgets/controls"
          }
        },
        "9018900cf15840b8af077b397482ed8e": {
          "model_module": "@jupyter-widgets/base",
          "model_name": "LayoutModel",
          "state": {
            "_view_name": "LayoutView",
            "grid_template_rows": null,
            "right": null,
            "justify_content": null,
            "_view_module": "@jupyter-widgets/base",
            "overflow": null,
            "_model_module_version": "1.2.0",
            "_view_count": null,
            "flex_flow": null,
            "width": null,
            "min_width": null,
            "border": null,
            "align_items": null,
            "bottom": null,
            "_model_module": "@jupyter-widgets/base",
            "top": null,
            "grid_column": null,
            "overflow_y": null,
            "overflow_x": null,
            "grid_auto_flow": null,
            "grid_area": null,
            "grid_template_columns": null,
            "flex": null,
            "_model_name": "LayoutModel",
            "justify_items": null,
            "grid_row": null,
            "max_height": null,
            "align_content": null,
            "visibility": null,
            "align_self": null,
            "height": null,
            "min_height": null,
            "padding": null,
            "grid_auto_rows": null,
            "grid_gap": null,
            "max_width": null,
            "order": null,
            "_view_module_version": "1.2.0",
            "grid_template_areas": null,
            "object_position": null,
            "object_fit": null,
            "grid_auto_columns": null,
            "margin": null,
            "display": null,
            "left": null
          }
        },
        "487d54bd7f7345e6a529c2b276d96e92": {
          "model_module": "@jupyter-widgets/controls",
          "model_name": "HBoxModel",
          "state": {
            "_view_name": "HBoxView",
            "_dom_classes": [],
            "_model_name": "HBoxModel",
            "_view_module": "@jupyter-widgets/controls",
            "_model_module_version": "1.5.0",
            "_view_count": null,
            "_view_module_version": "1.5.0",
            "box_style": "",
            "layout": "IPY_MODEL_923bf0865794406f8c354ca28ab8d1f3",
            "_model_module": "@jupyter-widgets/controls",
            "children": [
              "IPY_MODEL_349876c71fd74b09a02e17115ebd4e81",
              "IPY_MODEL_75c27dd0253d4cdd822a25e2d9a547d4"
            ]
          }
        },
        "923bf0865794406f8c354ca28ab8d1f3": {
          "model_module": "@jupyter-widgets/base",
          "model_name": "LayoutModel",
          "state": {
            "_view_name": "LayoutView",
            "grid_template_rows": null,
            "right": null,
            "justify_content": null,
            "_view_module": "@jupyter-widgets/base",
            "overflow": null,
            "_model_module_version": "1.2.0",
            "_view_count": null,
            "flex_flow": null,
            "width": null,
            "min_width": null,
            "border": null,
            "align_items": null,
            "bottom": null,
            "_model_module": "@jupyter-widgets/base",
            "top": null,
            "grid_column": null,
            "overflow_y": null,
            "overflow_x": null,
            "grid_auto_flow": null,
            "grid_area": null,
            "grid_template_columns": null,
            "flex": null,
            "_model_name": "LayoutModel",
            "justify_items": null,
            "grid_row": null,
            "max_height": null,
            "align_content": null,
            "visibility": null,
            "align_self": null,
            "height": null,
            "min_height": null,
            "padding": null,
            "grid_auto_rows": null,
            "grid_gap": null,
            "max_width": null,
            "order": null,
            "_view_module_version": "1.2.0",
            "grid_template_areas": null,
            "object_position": null,
            "object_fit": null,
            "grid_auto_columns": null,
            "margin": null,
            "display": null,
            "left": null
          }
        },
        "349876c71fd74b09a02e17115ebd4e81": {
          "model_module": "@jupyter-widgets/controls",
          "model_name": "FloatProgressModel",
          "state": {
            "_view_name": "ProgressView",
            "style": "IPY_MODEL_5cd5d0e394a34d28808ae2da08302a76",
            "_dom_classes": [],
            "description": "100%",
            "_model_name": "FloatProgressModel",
            "bar_style": "success",
            "max": 1000,
            "_view_module": "@jupyter-widgets/controls",
            "_model_module_version": "1.5.0",
            "value": 1000,
            "_view_count": null,
            "_view_module_version": "1.5.0",
            "orientation": "horizontal",
            "min": 0,
            "description_tooltip": null,
            "_model_module": "@jupyter-widgets/controls",
            "layout": "IPY_MODEL_df7b33951d1647b9ad2ff77972fe996f"
          }
        },
        "75c27dd0253d4cdd822a25e2d9a547d4": {
          "model_module": "@jupyter-widgets/controls",
          "model_name": "HTMLModel",
          "state": {
            "_view_name": "HTMLView",
            "style": "IPY_MODEL_45d9a2ed39de4b7e93011f10e9fcd192",
            "_dom_classes": [],
            "description": "",
            "_model_name": "HTMLModel",
            "placeholder": "​",
            "_view_module": "@jupyter-widgets/controls",
            "_model_module_version": "1.5.0",
            "value": " 1000/1000 [11:10&lt;00:00,  1.49it/s]",
            "_view_count": null,
            "_view_module_version": "1.5.0",
            "description_tooltip": null,
            "_model_module": "@jupyter-widgets/controls",
            "layout": "IPY_MODEL_b7b9ec1f961740c5a1320a7d05efcf3b"
          }
        },
        "5cd5d0e394a34d28808ae2da08302a76": {
          "model_module": "@jupyter-widgets/controls",
          "model_name": "ProgressStyleModel",
          "state": {
            "_view_name": "StyleView",
            "_model_name": "ProgressStyleModel",
            "description_width": "initial",
            "_view_module": "@jupyter-widgets/base",
            "_model_module_version": "1.5.0",
            "_view_count": null,
            "_view_module_version": "1.2.0",
            "bar_color": null,
            "_model_module": "@jupyter-widgets/controls"
          }
        },
        "df7b33951d1647b9ad2ff77972fe996f": {
          "model_module": "@jupyter-widgets/base",
          "model_name": "LayoutModel",
          "state": {
            "_view_name": "LayoutView",
            "grid_template_rows": null,
            "right": null,
            "justify_content": null,
            "_view_module": "@jupyter-widgets/base",
            "overflow": null,
            "_model_module_version": "1.2.0",
            "_view_count": null,
            "flex_flow": null,
            "width": null,
            "min_width": null,
            "border": null,
            "align_items": null,
            "bottom": null,
            "_model_module": "@jupyter-widgets/base",
            "top": null,
            "grid_column": null,
            "overflow_y": null,
            "overflow_x": null,
            "grid_auto_flow": null,
            "grid_area": null,
            "grid_template_columns": null,
            "flex": null,
            "_model_name": "LayoutModel",
            "justify_items": null,
            "grid_row": null,
            "max_height": null,
            "align_content": null,
            "visibility": null,
            "align_self": null,
            "height": null,
            "min_height": null,
            "padding": null,
            "grid_auto_rows": null,
            "grid_gap": null,
            "max_width": null,
            "order": null,
            "_view_module_version": "1.2.0",
            "grid_template_areas": null,
            "object_position": null,
            "object_fit": null,
            "grid_auto_columns": null,
            "margin": null,
            "display": null,
            "left": null
          }
        },
        "45d9a2ed39de4b7e93011f10e9fcd192": {
          "model_module": "@jupyter-widgets/controls",
          "model_name": "DescriptionStyleModel",
          "state": {
            "_view_name": "StyleView",
            "_model_name": "DescriptionStyleModel",
            "description_width": "",
            "_view_module": "@jupyter-widgets/base",
            "_model_module_version": "1.5.0",
            "_view_count": null,
            "_view_module_version": "1.2.0",
            "_model_module": "@jupyter-widgets/controls"
          }
        },
        "b7b9ec1f961740c5a1320a7d05efcf3b": {
          "model_module": "@jupyter-widgets/base",
          "model_name": "LayoutModel",
          "state": {
            "_view_name": "LayoutView",
            "grid_template_rows": null,
            "right": null,
            "justify_content": null,
            "_view_module": "@jupyter-widgets/base",
            "overflow": null,
            "_model_module_version": "1.2.0",
            "_view_count": null,
            "flex_flow": null,
            "width": null,
            "min_width": null,
            "border": null,
            "align_items": null,
            "bottom": null,
            "_model_module": "@jupyter-widgets/base",
            "top": null,
            "grid_column": null,
            "overflow_y": null,
            "overflow_x": null,
            "grid_auto_flow": null,
            "grid_area": null,
            "grid_template_columns": null,
            "flex": null,
            "_model_name": "LayoutModel",
            "justify_items": null,
            "grid_row": null,
            "max_height": null,
            "align_content": null,
            "visibility": null,
            "align_self": null,
            "height": null,
            "min_height": null,
            "padding": null,
            "grid_auto_rows": null,
            "grid_gap": null,
            "max_width": null,
            "order": null,
            "_view_module_version": "1.2.0",
            "grid_template_areas": null,
            "object_position": null,
            "object_fit": null,
            "grid_auto_columns": null,
            "margin": null,
            "display": null,
            "left": null
          }
        },
        "9285705d9cf34dea90252c722912b3a6": {
          "model_module": "@jupyter-widgets/controls",
          "model_name": "HBoxModel",
          "state": {
            "_view_name": "HBoxView",
            "_dom_classes": [],
            "_model_name": "HBoxModel",
            "_view_module": "@jupyter-widgets/controls",
            "_model_module_version": "1.5.0",
            "_view_count": null,
            "_view_module_version": "1.5.0",
            "box_style": "",
            "layout": "IPY_MODEL_63c77c2bc8f646c584c6ec627eda8eb1",
            "_model_module": "@jupyter-widgets/controls",
            "children": [
              "IPY_MODEL_c366657cba914510a731b81a13de37c5",
              "IPY_MODEL_41e664c1b4d64b2da96bb46a99aa1386"
            ]
          }
        },
        "63c77c2bc8f646c584c6ec627eda8eb1": {
          "model_module": "@jupyter-widgets/base",
          "model_name": "LayoutModel",
          "state": {
            "_view_name": "LayoutView",
            "grid_template_rows": null,
            "right": null,
            "justify_content": null,
            "_view_module": "@jupyter-widgets/base",
            "overflow": null,
            "_model_module_version": "1.2.0",
            "_view_count": null,
            "flex_flow": null,
            "width": null,
            "min_width": null,
            "border": null,
            "align_items": null,
            "bottom": null,
            "_model_module": "@jupyter-widgets/base",
            "top": null,
            "grid_column": null,
            "overflow_y": null,
            "overflow_x": null,
            "grid_auto_flow": null,
            "grid_area": null,
            "grid_template_columns": null,
            "flex": null,
            "_model_name": "LayoutModel",
            "justify_items": null,
            "grid_row": null,
            "max_height": null,
            "align_content": null,
            "visibility": null,
            "align_self": null,
            "height": null,
            "min_height": null,
            "padding": null,
            "grid_auto_rows": null,
            "grid_gap": null,
            "max_width": null,
            "order": null,
            "_view_module_version": "1.2.0",
            "grid_template_areas": null,
            "object_position": null,
            "object_fit": null,
            "grid_auto_columns": null,
            "margin": null,
            "display": null,
            "left": null
          }
        },
        "c366657cba914510a731b81a13de37c5": {
          "model_module": "@jupyter-widgets/controls",
          "model_name": "FloatProgressModel",
          "state": {
            "_view_name": "ProgressView",
            "style": "IPY_MODEL_647f30286dc5445e8aac6b2bfc8f381b",
            "_dom_classes": [],
            "description": "100%",
            "_model_name": "FloatProgressModel",
            "bar_style": "success",
            "max": 983,
            "_view_module": "@jupyter-widgets/controls",
            "_model_module_version": "1.5.0",
            "value": 983,
            "_view_count": null,
            "_view_module_version": "1.5.0",
            "orientation": "horizontal",
            "min": 0,
            "description_tooltip": null,
            "_model_module": "@jupyter-widgets/controls",
            "layout": "IPY_MODEL_d99d31cd12314336baa1e01d984320ef"
          }
        },
        "41e664c1b4d64b2da96bb46a99aa1386": {
          "model_module": "@jupyter-widgets/controls",
          "model_name": "HTMLModel",
          "state": {
            "_view_name": "HTMLView",
            "style": "IPY_MODEL_e1107089fc20439ca408515a5d710951",
            "_dom_classes": [],
            "description": "",
            "_model_name": "HTMLModel",
            "placeholder": "​",
            "_view_module": "@jupyter-widgets/controls",
            "_model_module_version": "1.5.0",
            "value": " 983/983 [10:55&lt;00:00,  1.50it/s]",
            "_view_count": null,
            "_view_module_version": "1.5.0",
            "description_tooltip": null,
            "_model_module": "@jupyter-widgets/controls",
            "layout": "IPY_MODEL_67b40be9ef0d4709af36a48b2536e0fd"
          }
        },
        "647f30286dc5445e8aac6b2bfc8f381b": {
          "model_module": "@jupyter-widgets/controls",
          "model_name": "ProgressStyleModel",
          "state": {
            "_view_name": "StyleView",
            "_model_name": "ProgressStyleModel",
            "description_width": "initial",
            "_view_module": "@jupyter-widgets/base",
            "_model_module_version": "1.5.0",
            "_view_count": null,
            "_view_module_version": "1.2.0",
            "bar_color": null,
            "_model_module": "@jupyter-widgets/controls"
          }
        },
        "d99d31cd12314336baa1e01d984320ef": {
          "model_module": "@jupyter-widgets/base",
          "model_name": "LayoutModel",
          "state": {
            "_view_name": "LayoutView",
            "grid_template_rows": null,
            "right": null,
            "justify_content": null,
            "_view_module": "@jupyter-widgets/base",
            "overflow": null,
            "_model_module_version": "1.2.0",
            "_view_count": null,
            "flex_flow": null,
            "width": null,
            "min_width": null,
            "border": null,
            "align_items": null,
            "bottom": null,
            "_model_module": "@jupyter-widgets/base",
            "top": null,
            "grid_column": null,
            "overflow_y": null,
            "overflow_x": null,
            "grid_auto_flow": null,
            "grid_area": null,
            "grid_template_columns": null,
            "flex": null,
            "_model_name": "LayoutModel",
            "justify_items": null,
            "grid_row": null,
            "max_height": null,
            "align_content": null,
            "visibility": null,
            "align_self": null,
            "height": null,
            "min_height": null,
            "padding": null,
            "grid_auto_rows": null,
            "grid_gap": null,
            "max_width": null,
            "order": null,
            "_view_module_version": "1.2.0",
            "grid_template_areas": null,
            "object_position": null,
            "object_fit": null,
            "grid_auto_columns": null,
            "margin": null,
            "display": null,
            "left": null
          }
        },
        "e1107089fc20439ca408515a5d710951": {
          "model_module": "@jupyter-widgets/controls",
          "model_name": "DescriptionStyleModel",
          "state": {
            "_view_name": "StyleView",
            "_model_name": "DescriptionStyleModel",
            "description_width": "",
            "_view_module": "@jupyter-widgets/base",
            "_model_module_version": "1.5.0",
            "_view_count": null,
            "_view_module_version": "1.2.0",
            "_model_module": "@jupyter-widgets/controls"
          }
        },
        "67b40be9ef0d4709af36a48b2536e0fd": {
          "model_module": "@jupyter-widgets/base",
          "model_name": "LayoutModel",
          "state": {
            "_view_name": "LayoutView",
            "grid_template_rows": null,
            "right": null,
            "justify_content": null,
            "_view_module": "@jupyter-widgets/base",
            "overflow": null,
            "_model_module_version": "1.2.0",
            "_view_count": null,
            "flex_flow": null,
            "width": null,
            "min_width": null,
            "border": null,
            "align_items": null,
            "bottom": null,
            "_model_module": "@jupyter-widgets/base",
            "top": null,
            "grid_column": null,
            "overflow_y": null,
            "overflow_x": null,
            "grid_auto_flow": null,
            "grid_area": null,
            "grid_template_columns": null,
            "flex": null,
            "_model_name": "LayoutModel",
            "justify_items": null,
            "grid_row": null,
            "max_height": null,
            "align_content": null,
            "visibility": null,
            "align_self": null,
            "height": null,
            "min_height": null,
            "padding": null,
            "grid_auto_rows": null,
            "grid_gap": null,
            "max_width": null,
            "order": null,
            "_view_module_version": "1.2.0",
            "grid_template_areas": null,
            "object_position": null,
            "object_fit": null,
            "grid_auto_columns": null,
            "margin": null,
            "display": null,
            "left": null
          }
        }
      }
    }
  },
  "cells": [
    {
      "cell_type": "code",
      "metadata": {
        "id": "krgXGcnD-0F5"
      },
      "source": [
        "import re\n",
        "import pickle\n",
        "import random\n",
        "\n",
        "import numpy as np\n",
        "import pandas as pd\n",
        "import torch\n",
        "from tqdm.notebook import tqdm\n",
        "import torch.nn as nn\n",
        "import torch.nn.functional as F"
      ],
      "execution_count": 2,
      "outputs": []
    },
    {
      "cell_type": "code",
      "metadata": {
        "id": "bwcmqMCGDinS"
      },
      "source": [
        "!cp /content/drive/MyDrive/NLP/*.pickle .\n",
        "!cp /content/drive/MyDrive/NLP/*.pth ."
      ],
      "execution_count": 2,
      "outputs": []
    },
    {
      "cell_type": "code",
      "metadata": {
        "id": "kzeloVZb-2GC"
      },
      "source": [
        "## Generated text\n",
        "pickle_gut = open(\"generated_text_guten.pickle\",\"rb\")\n",
        "gen_text_gut = pickle.load(pickle_gut)\n",
        "\n",
        "pickle_brow = open(\"generated_text_brown.pickle\",\"rb\")\n",
        "gen_text_brown = pickle.load(pickle_brow)\n",
        "\n",
        "## Real world Text\n",
        "## Using Movie plots from IMDB\n",
        "\n",
        "# read pickle file\n",
        "pickle_in = open(\"plots_text.pickle\",\"rb\")\n",
        "movie_plots = pickle.load(pickle_in)"
      ],
      "execution_count": 5,
      "outputs": []
    },
    {
      "cell_type": "code",
      "metadata": {
        "id": "fHG1tXTCwaof"
      },
      "source": [
        "class data_preprocessor():\n",
        "  def __init__(self):\n",
        "    self.corpus = []\n",
        "    self.sequences = []\n",
        "    self.word2idx = {}\n",
        "    self.idx2word = {}\n",
        "    self.input_text = []\n",
        "    self.output_text = []\n",
        "    self.input_idx = []\n",
        "    self.output_idx = []\n",
        "\n",
        "  def clean_corpus(self, corpus):\n",
        "    if self.ss:\n",
        "      print(\"Cleaning the corpus..\")\n",
        "    self.corpus = [re.sub(\"[^a-z' ]\", \"\", i) for i in corpus]\n",
        "\n",
        "  def create_sequence(self, seq_len = 5, hide_progress=True):\n",
        "    \"\"\"\n",
        "    Function to create sequences of a given length from a corpus\n",
        "    \"\"\"\n",
        "    if self.ss:\n",
        "      print(f\"\\nGenerating sequences of length {seq_len} from the corpus..\")\n",
        "    for line in tqdm(self.corpus, desc=\"Process lines \", disable=hide_progress):\n",
        "      token_list = line.split()\n",
        "      token_list = [token for token in token_list if token != \"\" or token != \" \"]\n",
        "      token_list_len = len(token_list)\n",
        "      if token_list_len > seq_len:\n",
        "        for i in range(seq_len,token_list_len):\n",
        "          seq = token_list[i-seq_len:i+1]\n",
        "          self.sequences.append(\" \".join(seq))\n",
        "      # else:\n",
        "      #   self.sequences.append(line)\n",
        "\n",
        "    if self.ss:\n",
        "      print(f\"Generated {len(self.sequences)} sequences !\")\n",
        "\n",
        "  def create_train_data(self):\n",
        "    \"\"\"\n",
        "    Function to generate input and output text\n",
        "    Input text : all words in the sentence except the last one\n",
        "    Output text : all words in the sentence except the first one\n",
        "    \"\"\"\n",
        "    if self.ss:\n",
        "      print(\"\\nGenerating Input and Ouput sequences..\")\n",
        "    for seq in self.sequences:\n",
        "      self.input_text.append(\" \".join(seq.split()[:-1]))\n",
        "      self.output_text.append(\" \".join(seq.split()[1:]))\n",
        "\n",
        "\n",
        "  def generate_wordindex_map(self):\n",
        "    \"\"\"\n",
        "    Function to generate index to word and word to index mapping\n",
        "    \"\"\"\n",
        "    if self.ss:\n",
        "      print(\"\\nGenerating word to index and index to word mapping..\")\n",
        "    self.all_words = sorted(set(\" \".join(self.corpus).split())) \n",
        "    self.vocab_size = len(self.all_words)  \n",
        "    self.word2idx = {w: self.all_words.index(w) for w in self.all_words}\n",
        "    self.idx2word = {self.all_words.index(w): w  for w in self.all_words}\n",
        "    if self.ss:\n",
        "      print(f\"Vocab Size : {self.vocab_size}\")\n",
        "\n",
        "\n",
        "  def generate_idx_train_data(self):\n",
        "    \"\"\"\n",
        "    Function to generate indexs of corresponding input and output text\n",
        "    \"\"\"\n",
        "    if self.ss:\n",
        "      print(\"\\nGenerating Indexed version of input/output data..\")\n",
        "\n",
        "    self.input_idx = np.array([[self.word2idx[w] for w in \n",
        "                       inp_sentec.split()] for inp_sentec in self.input_text])\n",
        "    \n",
        "    self.output_idx = np.array([[self.word2idx[w] for w in \n",
        "                       out_sentec.split()] for out_sentec in self.output_text])\n",
        "\n",
        "\n",
        "\n",
        "  def process_text(self, corpus, show_status = False):\n",
        "    self.ss = show_status  \n",
        "    self.clean_corpus(corpus)\n",
        "    self.create_sequence()\n",
        "    self.create_train_data()\n",
        "    self.generate_wordindex_map()\n",
        "    self.generate_idx_train_data()\n",
        "    if self.ss:\n",
        "      print(\"\\nProcessing done !\")"
      ],
      "execution_count": 6,
      "outputs": []
    },
    {
      "cell_type": "markdown",
      "metadata": {
        "id": "K6ZJkjDwoJDl"
      },
      "source": [
        "# Processing Text"
      ]
    },
    {
      "cell_type": "markdown",
      "metadata": {
        "id": "aiG6zD1ioN6I"
      },
      "source": [
        "### Real Data (IMDB Movie plots)"
      ]
    },
    {
      "cell_type": "code",
      "metadata": {
        "colab": {
          "base_uri": "https://localhost:8080/"
        },
        "id": "lSJom74aelAN",
        "outputId": "a12fa12d-5137-4232-e516-f802ab06f349"
      },
      "source": [
        "data_proc = data_preprocessor()\n",
        "\n",
        "data_proc.process_text(movie_plots, show_status=True )"
      ],
      "execution_count": 7,
      "outputs": [
        {
          "output_type": "stream",
          "text": [
            "Cleaning the corpus..\n",
            "\n",
            "Generating sequences of length 5 from the corpus..\n",
            "Generated 152644 sequences !\n",
            "\n",
            "Generating Input and Ouput sequences..\n",
            "\n",
            "Generating word to index and index to word mapping..\n",
            "Vocab Size : 16592\n",
            "\n",
            "Generating Indexed version of input/output data..\n",
            "\n",
            "Processing done !\n"
          ],
          "name": "stdout"
        }
      ]
    },
    {
      "cell_type": "code",
      "metadata": {
        "colab": {
          "base_uri": "https://localhost:8080/"
        },
        "id": "x5d9-MLWn14m",
        "outputId": "0f59b37d-c26d-488c-bab0-5888f751c904"
      },
      "source": [
        "print(data_proc.input_text[1], data_proc.input_idx[1])\n",
        "print(data_proc.output_text[1], data_proc.output_idx[1])"
      ],
      "execution_count": 8,
      "outputs": [
        {
          "output_type": "stream",
          "text": [
            "is a private with the [ 7662    58 11422 16310 14867]\n",
            "a private with the st [   58 11422 16310 14867 14005]\n"
          ],
          "name": "stdout"
        }
      ]
    },
    {
      "cell_type": "markdown",
      "metadata": {
        "id": "6ia41uIZoUC-"
      },
      "source": [
        "### Generated Data 1 (from NLTK Gutenberg)\n",
        "\n",
        "\n"
      ]
    },
    {
      "cell_type": "code",
      "metadata": {
        "colab": {
          "base_uri": "https://localhost:8080/"
        },
        "id": "DK-vKNkInI7K",
        "outputId": "367dcb23-5496-44d1-865f-a1867f0e0da5"
      },
      "source": [
        "data_proc_gut = data_preprocessor()\n",
        "data_proc_gut.process_text(gen_text_gut, show_status=True )"
      ],
      "execution_count": 9,
      "outputs": [
        {
          "output_type": "stream",
          "text": [
            "Cleaning the corpus..\n",
            "\n",
            "Generating sequences of length 5 from the corpus..\n",
            "Generated 91381 sequences !\n",
            "\n",
            "Generating Input and Ouput sequences..\n",
            "\n",
            "Generating word to index and index to word mapping..\n",
            "Vocab Size : 177\n",
            "\n",
            "Generating Indexed version of input/output data..\n",
            "\n",
            "Processing done !\n"
          ],
          "name": "stdout"
        }
      ]
    },
    {
      "cell_type": "code",
      "metadata": {
        "colab": {
          "base_uri": "https://localhost:8080/"
        },
        "id": "BLfD_M5Anfa5",
        "outputId": "d87c2b40-fc3c-4797-cd4e-fb8a63346d6e"
      },
      "source": [
        "print(data_proc_gut.input_text[1], data_proc_gut.input_idx[1])\n",
        "print(data_proc_gut.output_text[1], data_proc_gut.output_idx[1])"
      ],
      "execution_count": 10,
      "outputs": [
        {
          "output_type": "stream",
          "text": [
            "you will be a very [175 167  24   0 157]\n",
            "will be a very good [167  24   0 157  59]\n"
          ],
          "name": "stdout"
        }
      ]
    },
    {
      "cell_type": "markdown",
      "metadata": {
        "id": "Fjz5ZvrYoaUU"
      },
      "source": [
        "### Generated Data 2 (from NLTK Brown)\n"
      ]
    },
    {
      "cell_type": "code",
      "metadata": {
        "colab": {
          "base_uri": "https://localhost:8080/"
        },
        "id": "IBFgKXwgnYHe",
        "outputId": "c1ad985e-0feb-4f39-e841-56c9b94aac8f"
      },
      "source": [
        "data_proc_brown = data_preprocessor()\n",
        "data_proc_brown.process_text(gen_text_brown, show_status=True )"
      ],
      "execution_count": 11,
      "outputs": [
        {
          "output_type": "stream",
          "text": [
            "Cleaning the corpus..\n",
            "\n",
            "Generating sequences of length 5 from the corpus..\n",
            "Generated 86951 sequences !\n",
            "\n",
            "Generating Input and Ouput sequences..\n",
            "\n",
            "Generating word to index and index to word mapping..\n",
            "Vocab Size : 183\n",
            "\n",
            "Generating Indexed version of input/output data..\n",
            "\n",
            "Processing done !\n"
          ],
          "name": "stdout"
        }
      ]
    },
    {
      "cell_type": "code",
      "metadata": {
        "colab": {
          "base_uri": "https://localhost:8080/"
        },
        "id": "l5Q4KDv_n7up",
        "outputId": "a973c0de-4cd6-4b86-be47-6eedd3fd787c"
      },
      "source": [
        "print(data_proc_brown.input_text[1], data_proc_brown.input_idx[1])\n",
        "print(data_proc_brown.output_text[1], data_proc_brown.output_idx[1])"
      ],
      "execution_count": 12,
      "outputs": [
        {
          "output_type": "stream",
          "text": [
            "from the fact that the [ 55 146  48 144 146]\n",
            "the fact that the united [146  48 144 146 161]\n"
          ],
          "name": "stdout"
        }
      ]
    },
    {
      "cell_type": "markdown",
      "metadata": {
        "id": "qAIxx6asoEKP"
      },
      "source": [
        "# Creating Model"
      ]
    },
    {
      "cell_type": "code",
      "metadata": {
        "id": "e5qmFxof_LhC"
      },
      "source": [
        "def get_batches(arr_x, arr_y, batch_size):\n",
        "         \n",
        "    # iterate through the arrays\n",
        "    prv = 0\n",
        "    for n in range(batch_size, arr_x.shape[0], batch_size):\n",
        "      x = arr_x[prv:n,:]\n",
        "      y = arr_y[prv:n,:]\n",
        "      prv = n\n",
        "      yield x, y"
      ],
      "execution_count": 13,
      "outputs": []
    },
    {
      "cell_type": "code",
      "metadata": {
        "id": "rLji7N2P_MK_"
      },
      "source": [
        "class WordLSTM(nn.Module):\n",
        "    \n",
        "    def __init__(self, vocab_size, n_hidden=256, n_layers=4, drop_prob=0.3, \n",
        "                 lr=0.001):\n",
        "        super().__init__()\n",
        "\n",
        "        self.drop_prob = drop_prob\n",
        "        self.n_layers = n_layers\n",
        "        self.n_hidden = n_hidden\n",
        "        self.lr = lr\n",
        "        \n",
        "        self.emb_layer = nn.Embedding(vocab_size, 200)\n",
        "        self.lstm = nn.LSTM(200, n_hidden, n_layers, \n",
        "                            dropout=drop_prob, batch_first=True)\n",
        "\n",
        "        self.dropout = nn.Dropout(drop_prob)\n",
        "        self.fc = nn.Linear(n_hidden, vocab_size)      \n",
        "    \n",
        "    def forward(self, x, hidden):\n",
        "        ''' Forward pass through the network. \n",
        "            These inputs are x, and the hidden/cell state `hidden`. '''\n",
        "\n",
        "        ## pass input through embedding layer\n",
        "        embedded = self.emb_layer(x)     \n",
        "        \n",
        "        ## Get the outputs and the new hidden state from the lstm\n",
        "        lstm_output, hidden = self.lstm(embedded, hidden)\n",
        "\n",
        "        out = self.dropout(lstm_output)\n",
        "        \n",
        "        #out = out.contiguous().view(-1, self.n_hidden) \n",
        "        out = out.reshape(-1, self.n_hidden) \n",
        "        out = self.fc(out)\n",
        "\n",
        "        return out, hidden\n",
        "    \n",
        "    \n",
        "    def init_hidden(self, batch_size):\n",
        "        ''' initializes hidden state '''\n",
        "        # Create two new tensors with sizes n_layers x batch_size x n_hidden,\n",
        "        # initialized to zero, for hidden state and cell state of LSTM\n",
        "        weight = next(self.parameters()).data\n",
        "\n",
        "        # if GPU is available\n",
        "        if (torch.cuda.is_available()):\n",
        "          hidden = (weight.new(self.n_layers, batch_size, self.n_hidden).zero_().cuda(),\n",
        "                    weight.new(self.n_layers, batch_size, self.n_hidden).zero_().cuda())\n",
        "        \n",
        "        # if GPU is not available\n",
        "        else:\n",
        "          hidden = (weight.new(self.n_layers, batch_size, self.n_hidden).zero_(),\n",
        "                    weight.new(self.n_layers, batch_size, self.n_hidden).zero_())\n",
        "        \n",
        "        return hidden"
      ],
      "execution_count": 14,
      "outputs": []
    },
    {
      "cell_type": "code",
      "metadata": {
        "colab": {
          "base_uri": "https://localhost:8080/"
        },
        "id": "_9nFRrxE_QYV",
        "outputId": "e9a5486f-49d2-40af-8343-d91e26152358"
      },
      "source": [
        "\n",
        "# instantiate the model\n",
        "plot_net = WordLSTM(data_proc.vocab_size).cuda()\n",
        "gutten_net = WordLSTM(data_proc.vocab_size).cuda()\n",
        "brown_net = WordLSTM(data_proc.vocab_size).cuda()\n",
        "print(plot_net)"
      ],
      "execution_count": 15,
      "outputs": [
        {
          "output_type": "stream",
          "text": [
            "WordLSTM(\n",
            "  (emb_layer): Embedding(16592, 200)\n",
            "  (lstm): LSTM(200, 256, num_layers=4, batch_first=True, dropout=0.3)\n",
            "  (dropout): Dropout(p=0.3, inplace=False)\n",
            "  (fc): Linear(in_features=256, out_features=16592, bias=True)\n",
            ")\n"
          ],
          "name": "stdout"
        }
      ]
    },
    {
      "cell_type": "code",
      "metadata": {
        "id": "rHFJNQ4o_SqL"
      },
      "source": [
        "def train(net, input_t, output_t, epochs=10, batch_size=32, lr=0.001, clip=1):\n",
        "    \n",
        "    optim = torch.optim.Adam(net.parameters(), lr=lr)\n",
        "    criterion = nn.CrossEntropyLoss()\n",
        "    net.cuda()\n",
        "\n",
        "    net.train()\n",
        "\n",
        "    epoch_loop = tqdm(range(epochs), desc=\"Epochs \")\n",
        "    batch_loop = tqdm(range(len(input_t)//batch_size), desc=\"Batch Status \")\n",
        "\n",
        "    for e in range(epochs):\n",
        "        batch_loop.refresh()\n",
        "        batch_loop.reset()\n",
        "        epoch_loop.update()\n",
        "\n",
        "        # initialize hidden state\n",
        "        h = net.init_hidden(batch_size)\n",
        "        \n",
        "        for x, y in get_batches(input_t, output_t, batch_size):\n",
        "            batch_loop.update()\n",
        "\n",
        "            # convert numpy arrays to PyTorch arrays\n",
        "            inputs, targets = torch.from_numpy(x), torch.from_numpy(y)\n",
        "            inputs, targets = inputs.cuda(), targets.cuda()\n",
        "\n",
        "            # detach hidden states\n",
        "            h = tuple([each.data for each in h])\n",
        "\n",
        "            net.zero_grad()\n",
        "            output, h = net(inputs, h)\n",
        "            loss = criterion(output, targets.view(-1))\n",
        "            loss.backward()\n",
        "\n",
        "            # `clip_grad_norm` helps prevent the exploding gradient problem in RNNs / LSTMs.\n",
        "            nn.utils.clip_grad_norm_(net.parameters(), clip)\n",
        "\n",
        "            optim.step()            \n",
        "            "
      ],
      "execution_count": 15,
      "outputs": []
    },
    {
      "cell_type": "markdown",
      "metadata": {
        "id": "qR7TPXWgpMeT"
      },
      "source": [
        "# Training Model"
      ]
    },
    {
      "cell_type": "code",
      "metadata": {
        "colab": {
          "base_uri": "https://localhost:8080/",
          "height": 81,
          "referenced_widgets": [
            "dd5ab824615344639ffd4309b2ef44f0",
            "1c58565f0d6a4ac5ab6f6d652d6ce4bd",
            "8e359b41b5774e87866a38223bfb5bea",
            "dd00c6bef8dd46b5b301704af953f7aa",
            "51a253fd21274873976d7baf92c32112",
            "a768519018c1491cae52327f201142ed",
            "ce01b15f57e74bbfb88b62ac83c81e57",
            "3e00e9bae4dd485486b8066f79ae494f",
            "c8a3f64663f34e758cdf1499b55c607a",
            "4fe7320a9722402abb26dde02fd7b2d5",
            "ca8264faef3548e596963471bad2cad1",
            "4e0bff315a8645c0b65385769c9d23a6",
            "0b1baeb758b948dea81381bf59e7578b",
            "8505dee8522547b7a0a8a85d2ab22980",
            "f3cc4d6d320442daa0917fc755170d42",
            "676ac039e15b4fd19f61e84c126e397e"
          ]
        },
        "id": "aoC2fHl9_W9u",
        "outputId": "5ea0a73f-a7f5-44e1-9857-332cc1c3dfe6"
      },
      "source": [
        "# # train the model\n",
        "train(plot_net,\n",
        "      data_proc.input_idx, \n",
        "      data_proc.output_idx, \n",
        "      batch_size = 32, epochs=50)\n",
        "\n",
        "torch.save(plot_net, \"/content/drive/MyDrive/NLP/plot_net.pth\")"
      ],
      "execution_count": 16,
      "outputs": [
        {
          "output_type": "display_data",
          "data": {
            "application/vnd.jupyter.widget-view+json": {
              "model_id": "dd5ab824615344639ffd4309b2ef44f0",
              "version_minor": 0,
              "version_major": 2
            },
            "text/plain": [
              "HBox(children=(FloatProgress(value=0.0, description='Epochs ', max=50.0, style=ProgressStyle(description_width…"
            ]
          },
          "metadata": {
            "tags": []
          }
        },
        {
          "output_type": "display_data",
          "data": {
            "application/vnd.jupyter.widget-view+json": {
              "model_id": "c8a3f64663f34e758cdf1499b55c607a",
              "version_minor": 0,
              "version_major": 2
            },
            "text/plain": [
              "HBox(children=(FloatProgress(value=0.0, description='Batch Status ', max=4770.0, style=ProgressStyle(descripti…"
            ]
          },
          "metadata": {
            "tags": []
          }
        }
      ]
    },
    {
      "cell_type": "code",
      "metadata": {
        "colab": {
          "base_uri": "https://localhost:8080/",
          "height": 81,
          "referenced_widgets": [
            "c7a30b41871d470b831bbcebf6ce377c",
            "2c66e048cc2a4716ac04684cea631a2d",
            "37f0da954c634c1a9d322d08bf968091",
            "b2d1a5a0b8d94dd4825010932d40927d",
            "1b7c8a70ee6e423c84df211045ae6299",
            "c8a80108d12041ea91543a6b4d243af5",
            "ead323b246c94fd9a1689a76efe08877",
            "854d0ffa8b3746c483a95b70e1ca2433",
            "807052edc28947678893dbad94069b13",
            "eaae36d7012f4cabba0cd10f7cde9899",
            "58bac534d148453c87b6b27cbd06c3e6",
            "c1c0e7945a084bc39e8e186cc6433c25",
            "7ceaf3e1271e4df4a8b2cde3f41bcdae",
            "5db74456f7ab437385b2b3e3ed61bcea",
            "60cce9f369ea44dfb62a72a2d451080b",
            "57f8c1ebf5d7488f8b51daedc919916d"
          ]
        },
        "id": "5ADlFN6cqHhr",
        "outputId": "153d9398-71c8-41af-9ba6-2c94edc75222"
      },
      "source": [
        "# train the model\n",
        "train(gutten_net,\n",
        "      data_proc_gut.input_idx, \n",
        "      data_proc_gut.output_idx, \n",
        "      batch_size = 32, epochs=20)\n",
        "\n",
        "\n",
        "torch.save(gutten_net, \"/content/drive/MyDrive/NLP/gutten_net.pth\")"
      ],
      "execution_count": 252,
      "outputs": [
        {
          "output_type": "display_data",
          "data": {
            "application/vnd.jupyter.widget-view+json": {
              "model_id": "c7a30b41871d470b831bbcebf6ce377c",
              "version_minor": 0,
              "version_major": 2
            },
            "text/plain": [
              "HBox(children=(FloatProgress(value=0.0, description='Epochs ', max=20.0, style=ProgressStyle(description_width…"
            ]
          },
          "metadata": {
            "tags": []
          }
        },
        {
          "output_type": "display_data",
          "data": {
            "application/vnd.jupyter.widget-view+json": {
              "model_id": "807052edc28947678893dbad94069b13",
              "version_minor": 0,
              "version_major": 2
            },
            "text/plain": [
              "HBox(children=(FloatProgress(value=0.0, description='Batch Status ', max=2855.0, style=ProgressStyle(descripti…"
            ]
          },
          "metadata": {
            "tags": []
          }
        }
      ]
    },
    {
      "cell_type": "code",
      "metadata": {
        "colab": {
          "base_uri": "https://localhost:8080/",
          "height": 81,
          "referenced_widgets": [
            "15748a07983349958f10b78fa5313f64",
            "d47d66c80d254d269a9b9ac62fe9453b",
            "c577a357c95144818ad7861d44dee6fa",
            "95eb465d6462421abf49c4f70bfe6e85",
            "2c7673502c06490cbe6f31c826160701",
            "c8d5c1cb98d2405cbe85f20a3aeef5ac",
            "8aad359b2c404c6a8fa3e11c2b0d6c5f",
            "2fc7b1b6ba6c4d439b321f6e2315a61e",
            "4fb3cf831f4c4f4a846f9b3116ba7933",
            "8d610011400a4d4e9618428bcc1c5e81",
            "fd308134245b4daeb3d1fbca68eb79e7",
            "dde8846cb05640a08201c34675e1ab43",
            "cc93758ff00d4121877f9a08101aa3e1",
            "ea0f3d3208fd4817a4a525a8ca6939a7",
            "630e722742af4d1c84a720eb0fc664ad",
            "bc2149133fff49928d3f9da93456bffa"
          ]
        },
        "id": "VgZwXjFcqITI",
        "outputId": "84944907-d014-4af9-b6c7-060fcfa40c0c"
      },
      "source": [
        "# train the model\n",
        "train(brown_net,\n",
        "      data_proc_brown.input_idx, \n",
        "      data_proc_brown.output_idx, \n",
        "      batch_size = 32, epochs=20)\n",
        "\n",
        "torch.save(brown_net, \"/content/drive/MyDrive/NLP/brown_net.pth\")"
      ],
      "execution_count": 253,
      "outputs": [
        {
          "output_type": "display_data",
          "data": {
            "application/vnd.jupyter.widget-view+json": {
              "model_id": "15748a07983349958f10b78fa5313f64",
              "version_minor": 0,
              "version_major": 2
            },
            "text/plain": [
              "HBox(children=(FloatProgress(value=0.0, description='Epochs ', max=20.0, style=ProgressStyle(description_width…"
            ]
          },
          "metadata": {
            "tags": []
          }
        },
        {
          "output_type": "display_data",
          "data": {
            "application/vnd.jupyter.widget-view+json": {
              "model_id": "4fb3cf831f4c4f4a846f9b3116ba7933",
              "version_minor": 0,
              "version_major": 2
            },
            "text/plain": [
              "HBox(children=(FloatProgress(value=0.0, description='Batch Status ', max=2717.0, style=ProgressStyle(descripti…"
            ]
          },
          "metadata": {
            "tags": []
          }
        }
      ]
    },
    {
      "cell_type": "markdown",
      "metadata": {
        "id": "EW9aYvlMbHO8"
      },
      "source": [
        "# Load Models and Test"
      ]
    },
    {
      "cell_type": "code",
      "metadata": {
        "id": "9_fpgg-YbGdM"
      },
      "source": [
        "plot_net = WordLSTM(data_proc.vocab_size).cuda()\n",
        "plot_net = torch.load(\"plot_net.pth\")\n",
        "\n",
        "gutten_net = WordLSTM(data_proc.vocab_size).cuda()\n",
        "gutten_net = torch.load(\"gutten_net.pth\")\n",
        "\n",
        "brown_net = WordLSTM(data_proc.vocab_size).cuda()\n",
        "brown_net = torch.load(\"brown_net.pth\")"
      ],
      "execution_count": 16,
      "outputs": []
    },
    {
      "cell_type": "code",
      "metadata": {
        "id": "7dDgLc8dklH2"
      },
      "source": [
        "temp = open(\"test_orig_gutten.pickle\",\"rb\")\n",
        "test_gutten = pickle.load(temp)\n",
        "\n",
        "temp = open('test_orig_plot.pickle','rb')\n",
        "test_plot = pickle.load(temp)\n",
        "\n",
        "temp = open(\"test_orig_brown.pickle\",\"rb\")\n",
        "test_brown = pickle.load(temp)"
      ],
      "execution_count": 3,
      "outputs": []
    },
    {
      "cell_type": "code",
      "metadata": {
        "id": "YwbeOY9wwEMf"
      },
      "source": [
        "def process_test_data(sentence_list):\n",
        "  new_list = []\n",
        "  for sentence in sentence_list:\n",
        "    new_sent = []\n",
        "    for item in sentence.split():\n",
        "      if item not in [\",\",\".\",\"!\",\"?\"] and not item.isdigit():\n",
        "        new_sent.append(item.strip(\".,\"))\n",
        "    if len(new_sent) > 3:\n",
        "      new_list.append(\" \".join(new_sent))\n",
        "  return new_list"
      ],
      "execution_count": 4,
      "outputs": []
    },
    {
      "cell_type": "code",
      "metadata": {
        "colab": {
          "base_uri": "https://localhost:8080/"
        },
        "id": "ARGCLdhJw8y8",
        "outputId": "ccf36e75-b454-4fe6-d142-dd98f6ab2dfe"
      },
      "source": [
        "test_brown_s = process_test_data(test_brown)\n",
        "test_gutten_s = process_test_data(test_gutten)\n",
        "test_plot_s = process_test_data(test_plot)\n",
        "print(len(test_brown_s),len(test_gutten_s),len(test_plot_s))"
      ],
      "execution_count": 5,
      "outputs": [
        {
          "output_type": "stream",
          "text": [
            "983 1000 973\n"
          ],
          "name": "stdout"
        }
      ]
    },
    {
      "cell_type": "code",
      "metadata": {
        "id": "Ygl-AscRlEE6"
      },
      "source": [
        "\n",
        "start_tokens_plot = [\" \".join(item.split()[:2]) for item in test_plot_s]\n",
        "start_tokens_plot_3 = [\" \".join(item.split()[:3]) for item in test_plot_s]\n",
        "start_tokens_gutten = [\" \".join(item.split()[:2]) for item in test_gutten_s]\n",
        "start_tokens_brown = [\" \".join(item.split()[:2]) for item in test_brown_s] "
      ],
      "execution_count": 25,
      "outputs": []
    },
    {
      "cell_type": "code",
      "metadata": {
        "id": "6ALbRbzD_ZmL"
      },
      "source": [
        "# predict next token\n",
        "def predict(net, tkn, idx2wrd, wrd2idx ,h=None):\n",
        "         \n",
        "  # tensor inputs\n",
        "  # x = np.array([[token2int[tkn]]])\n",
        "  x = np.array([[wrd2idx[tkn]]])\n",
        "  inputs = torch.from_numpy(x)\n",
        "  inputs = inputs.cuda()\n",
        "\n",
        "  # detach hidden state from history\n",
        "  h = tuple([each.data for each in h])\n",
        "\n",
        "  out, h = net(inputs, h)\n",
        "\n",
        "  # get the token probabilities\n",
        "  p = F.softmax(out, dim=1).data\n",
        "\n",
        "  p = p.cpu()\n",
        "  p = p.numpy()\n",
        "  p = p.reshape(p.shape[1],)\n",
        "\n",
        "  # get indices of top 3 values\n",
        "  top_n_idx = p.argsort()[-3:][::-1]\n",
        "\n",
        "  # randomly select one of the three indices\n",
        "  sampled_token_index = top_n_idx[random.sample([0,1,2],1)[0]]\n",
        "\n",
        "  # return the encoded value of the predicted char and the hidden state\n",
        "  # return int2token[sampled_token_index], h\n",
        "  return idx2wrd[sampled_token_index], h"
      ],
      "execution_count": 21,
      "outputs": []
    },
    {
      "cell_type": "code",
      "metadata": {
        "id": "ZOfe6sISq7Pb"
      },
      "source": [
        "# function to generate text\n",
        "def sample(net, size, idx2word, word2idx, prime='it is'):\n",
        "        \n",
        "    # push to GPU\n",
        "    net.cuda()\n",
        "    \n",
        "    net.eval()\n",
        "\n",
        "    # batch size is 1\n",
        "    h = net.init_hidden(1)\n",
        "\n",
        "    toks = prime.split()\n",
        "\n",
        "    # predict next token\n",
        "    for t in prime.split():\n",
        "      token, h = predict(net, t, idx2word, word2idx, h)\n",
        "    \n",
        "    toks.append(token)\n",
        "\n",
        "    # predict subsequent tokens\n",
        "    for i in range(size-1):\n",
        "        token, h = predict(net, toks[-1],idx2word,word2idx, h)\n",
        "        toks.append(token)\n",
        "\n",
        "    return ' '.join(toks)"
      ],
      "execution_count": 22,
      "outputs": []
    },
    {
      "cell_type": "code",
      "metadata": {
        "colab": {
          "base_uri": "https://localhost:8080/",
          "height": 164,
          "referenced_widgets": [
            "277a7204925a493db5600b1173c73a59",
            "5a10c3e574bd4f88ac248110e252eee9",
            "df8832ca154245898a1385d72f73ebf4",
            "f14386d31ecc4b3a9dcb76d93fdfaf4b",
            "c253ba2618674e2b897f70469cd3b406",
            "608e30974ae14c399d07e4a4c84b3a78",
            "f21fa908c14e43ff912e97e8eec336b2",
            "9018900cf15840b8af077b397482ed8e",
            "487d54bd7f7345e6a529c2b276d96e92",
            "923bf0865794406f8c354ca28ab8d1f3",
            "349876c71fd74b09a02e17115ebd4e81",
            "75c27dd0253d4cdd822a25e2d9a547d4",
            "5cd5d0e394a34d28808ae2da08302a76",
            "df7b33951d1647b9ad2ff77972fe996f",
            "45d9a2ed39de4b7e93011f10e9fcd192",
            "b7b9ec1f961740c5a1320a7d05efcf3b",
            "9285705d9cf34dea90252c722912b3a6",
            "63c77c2bc8f646c584c6ec627eda8eb1",
            "c366657cba914510a731b81a13de37c5",
            "41e664c1b4d64b2da96bb46a99aa1386",
            "647f30286dc5445e8aac6b2bfc8f381b",
            "d99d31cd12314336baa1e01d984320ef",
            "e1107089fc20439ca408515a5d710951",
            "67b40be9ef0d4709af36a48b2536e0fd"
          ]
        },
        "id": "IiQUihl4lXT2",
        "outputId": "50468e0a-cdde-45e5-c615-f838f0be90a8"
      },
      "source": [
        "rnn_test_plot = []\n",
        "rnn_test_plot_3 = []\n",
        "rnn_test_gutten = []\n",
        "rnn_test_brown = []\n",
        "\n",
        "for i in tqdm(range(len(start_tokens_plot))):\n",
        "  pred_plot = sample(plot_net, 15, data_proc.idx2word, \n",
        "                     data_proc.word2idx, prime=start_tokens_plot[i])\n",
        "  rnn_test_plot.append(pred_plot)\n",
        "  pred_plot = sample(plot_net, 15, data_proc.idx2word, \n",
        "                     data_proc.word2idx, prime=start_tokens_plot_3[i])\n",
        "  rnn_test_plot_3.append(pred_plot)\n",
        "\n",
        "for i in tqdm(range(len(start_tokens_gutten))):\n",
        "  pred_gutten = sample(gutten_net, 5, data_proc_gut.idx2word, \n",
        "                       data_proc_gut.word2idx, prime=start_tokens_gutten[i])\n",
        "\n",
        "  rnn_test_gutten.append(pred_gutten)\n",
        "\n",
        "for i in tqdm(range(len(start_tokens_brown))):\n",
        "  pred_brown = sample(brown_net, 5, data_proc_brown.idx2word, \n",
        "                      data_proc_brown.word2idx, prime=start_tokens_brown[i])\n",
        "  rnn_test_brown.append(pred_brown)"
      ],
      "execution_count": 26,
      "outputs": [
        {
          "output_type": "display_data",
          "data": {
            "application/vnd.jupyter.widget-view+json": {
              "model_id": "277a7204925a493db5600b1173c73a59",
              "version_minor": 0,
              "version_major": 2
            },
            "text/plain": [
              "HBox(children=(FloatProgress(value=0.0, max=973.0), HTML(value='')))"
            ]
          },
          "metadata": {
            "tags": []
          }
        },
        {
          "output_type": "stream",
          "text": [
            "\n"
          ],
          "name": "stdout"
        },
        {
          "output_type": "display_data",
          "data": {
            "application/vnd.jupyter.widget-view+json": {
              "model_id": "487d54bd7f7345e6a529c2b276d96e92",
              "version_minor": 0,
              "version_major": 2
            },
            "text/plain": [
              "HBox(children=(FloatProgress(value=0.0, max=1000.0), HTML(value='')))"
            ]
          },
          "metadata": {
            "tags": []
          }
        },
        {
          "output_type": "stream",
          "text": [
            "\n"
          ],
          "name": "stdout"
        },
        {
          "output_type": "display_data",
          "data": {
            "application/vnd.jupyter.widget-view+json": {
              "model_id": "9285705d9cf34dea90252c722912b3a6",
              "version_minor": 0,
              "version_major": 2
            },
            "text/plain": [
              "HBox(children=(FloatProgress(value=0.0, max=983.0), HTML(value='')))"
            ]
          },
          "metadata": {
            "tags": []
          }
        },
        {
          "output_type": "stream",
          "text": [
            "\n"
          ],
          "name": "stdout"
        }
      ]
    },
    {
      "cell_type": "code",
      "metadata": {
        "colab": {
          "base_uri": "https://localhost:8080/"
        },
        "id": "SXRN8Yk-wC5R",
        "outputId": "0e4fca47-7298-437f-d8ce-2385725c8bc9"
      },
      "source": [
        "sample_ = int(np.random.choice(np.arange(len(test_plot)),1))\n",
        "print(f\"Original Movie plot text :{test_plot[sample_]}\")\n",
        "print(f\"Generated Movie plot text: {rnn_test_plot[sample_]}\")"
      ],
      "execution_count": 45,
      "outputs": [
        {
          "output_type": "stream",
          "text": [
            "Original Movie plot text :she also informs them that the most desired prostitute among the clients was a woman known only as jade.\n",
            "Generated Movie plot text: people ask him that she is not able that she is the only to be in love\n"
          ],
          "name": "stdout"
        }
      ]
    },
    {
      "cell_type": "code",
      "metadata": {
        "colab": {
          "base_uri": "https://localhost:8080/"
        },
        "id": "278rE-Inzmwn",
        "outputId": "15099ed4-2617-402f-d3cc-8dd406af48d4"
      },
      "source": [
        "sample_ = int(np.random.choice(np.arange(len(test_plot)),1))\n",
        "print(f\"Original Movie plot text :{test_plot[sample_]}\")\n",
        "print(f\"Generated Movie plot text: {rnn_test_plot_3[sample_]}\")"
      ],
      "execution_count": 49,
      "outputs": [
        {
          "output_type": "stream",
          "text": [
            "Original Movie plot text :before seth's future self escaped he mentions the rainmaker a man who has taken over future organized crime and is closing all loops.\n",
            "Generated Movie plot text: before seth's future dancing but he has a surprise for her and the two meet and sound at\n"
          ],
          "name": "stdout"
        }
      ]
    },
    {
      "cell_type": "code",
      "metadata": {
        "colab": {
          "base_uri": "https://localhost:8080/"
        },
        "id": "aAJGH7RA_dJ0",
        "outputId": "d3048c54-6872-4757-8e93-2e24b30de7a0"
      },
      "source": [
        "sample_ = int(np.random.choice(np.arange(len(test_gutten)),1))\n",
        "print(f\"Original Guttenberg (generated) text : {test_gutten[sample_]}\")\n",
        "print(f\"Generated Guttenberg (generated) text: {rnn_test_gutten[sample_]}\")"
      ],
      "execution_count": 32,
      "outputs": [
        {
          "output_type": "stream",
          "text": [
            "Original Guttenberg (generated) text : that she had been in the\n",
            "Generated Guttenberg (generated) text: that she had been i am sure\n"
          ],
          "name": "stdout"
        }
      ]
    },
    {
      "cell_type": "code",
      "metadata": {
        "colab": {
          "base_uri": "https://localhost:8080/"
        },
        "id": "LEli2HVK_hxm",
        "outputId": "15c5fe9b-cf23-4105-97b8-48b134b75f6b"
      },
      "source": [
        "sample_ = int(np.random.choice(np.arange(len(test_brown)),1))\n",
        "print(f\"Original Brown (generated) text : {test_brown[sample_]}\")\n",
        "print(f\"Generated Brown (generated) text: {rnn_test_brown[sample_]}\")"
      ],
      "execution_count": 42,
      "outputs": [
        {
          "output_type": "stream",
          "text": [
            "Original Brown (generated) text : sometimes he would have been a\n",
            "Generated Brown (generated) text: some of world know what to do\n"
          ],
          "name": "stdout"
        }
      ]
    },
    {
      "cell_type": "code",
      "metadata": {
        "id": "5iJNBr349C00"
      },
      "source": [
        "with open('/content/drive/MyDrive/NLP/rnn_test_gutten.pickle', 'wb') as f:\n",
        "    pickle.dump(rnn_test_gutten, f)\n",
        "\n",
        "with open('/content/drive/MyDrive/NLP/rnn_test_brown.pickle', 'wb') as f:\n",
        "    pickle.dump(rnn_test_brown, f)\n",
        "    \n",
        "with open('/content/drive/MyDrive/NLP/rnn_test_plot.pickle', 'wb') as f:\n",
        "    pickle.dump(rnn_test_plot, f)"
      ],
      "execution_count": 389,
      "outputs": []
    },
    {
      "cell_type": "markdown",
      "metadata": {
        "id": "bOCokRQ4qjK-"
      },
      "source": [
        "# Result Evaluation"
      ]
    },
    {
      "cell_type": "markdown",
      "metadata": {
        "id": "f-TUBE_r4Unu"
      },
      "source": [
        "## Evaluating RNN Outputs"
      ]
    },
    {
      "cell_type": "code",
      "metadata": {
        "id": "Nh6RwT-Lycse"
      },
      "source": [
        "%%capture\n",
        "!pip install datasets\n",
        "!pip install bert_score"
      ],
      "execution_count": 1,
      "outputs": []
    },
    {
      "cell_type": "code",
      "metadata": {
        "id": "64ssWhCxrV35"
      },
      "source": [
        "import warnings\n",
        "warnings.filterwarnings(\"ignore\")\n",
        "from datasets import load_metric"
      ],
      "execution_count": 3,
      "outputs": []
    },
    {
      "cell_type": "code",
      "metadata": {
        "id": "WOgdituQrBHJ"
      },
      "source": [
        "temp = open(\"rnn_test_gutten.pickle\",\"rb\")\n",
        "rnn_test_gutten = pickle.load(temp)\n",
        "\n",
        "temp = open('rnn_test_brown.pickle','rb')\n",
        "rnn_test_brown = pickle.load(temp)\n",
        "\n",
        "temp = open(\"rnn_test_plot.pickle\",\"rb\")\n",
        "rnn_test_plot = pickle.load(temp)"
      ],
      "execution_count": 8,
      "outputs": []
    },
    {
      "cell_type": "code",
      "metadata": {
        "id": "6YsxxC3m4AbB"
      },
      "source": [
        "bertscore_gutten = load_metric('bertscore')\n",
        "bertscore_gutten.add_batch(predictions=rnn_test_gutten, references=test_gutten_s)\n",
        "rnn_gutt_precision = torch.mean(bertscore_gutten.compute(lang='en')['precision']).item()\n",
        "bertscore_gutten = load_metric('bertscore')\n",
        "bertscore_gutten.add_batch(predictions=rnn_test_gutten, references=test_gutten_s)\n",
        "rnn_gutt_f1 = torch.mean(bertscore_gutten.compute(lang='en')['f1']).item()"
      ],
      "execution_count": 24,
      "outputs": []
    },
    {
      "cell_type": "code",
      "metadata": {
        "id": "Se5LdmMXygDZ"
      },
      "source": [
        "bertscore_brown = load_metric('bertscore')\n",
        "bertscore_brown.add_batch(predictions=rnn_test_brown, references=test_brown_s)\n",
        "rnn_brown_precision = torch.mean(bertscore_brown.compute(lang='en')['precision']).item()\n",
        "bertscore_brown = load_metric('bertscore')\n",
        "bertscore_brown.add_batch(predictions=rnn_test_brown, references=test_brown_s)\n",
        "rnn_brown_f1 = torch.mean(bertscore_brown.compute(lang='en')['f1']).item()"
      ],
      "execution_count": 25,
      "outputs": []
    },
    {
      "cell_type": "code",
      "metadata": {
        "id": "RlMdIBIA0DDM"
      },
      "source": [
        "bertscore_plot = load_metric('bertscore')\n",
        "bertscore_plot.add_batch(predictions=rnn_test_plot, references=test_plot_s)\n",
        "rnn_plot_precision = torch.mean(bertscore_plot.compute(lang='en')['precision']).item()\n",
        "bertscore_plot = load_metric('bertscore')\n",
        "bertscore_plot.add_batch(predictions=rnn_test_plot, references=test_plot_s)\n",
        "rnn_plot_f1 = torch.mean(bertscore_plot.compute(lang='en')['f1']).item()"
      ],
      "execution_count": 26,
      "outputs": []
    },
    {
      "cell_type": "code",
      "metadata": {
        "colab": {
          "base_uri": "https://localhost:8080/"
        },
        "id": "p1saqMVDxUiy",
        "outputId": "2d0fb8f0-3d39-46c0-dc27-86cac001be7e"
      },
      "source": [
        "print(\"\\n\")\n",
        "print(f\"RNN | Precision | Movie Plot | {round(rnn_plot_precision,3)}\")\n",
        "print(f\"RNN | Precision | Guttenberg | {round(rnn_gutt_precision,3)}\")\n",
        "print(f\"RNN | Precision | Brown Crop | {round(rnn_brown_precision,3)}\")\n",
        "print(\"\\n\")\n",
        "print(f\"RNN | F-1 score | Movie Plot | {round(rnn_plot_f1,3)}\")\n",
        "print(f\"RNN | F-1 score | Guttenberg | {round(rnn_gutt_f1,3)}\")\n",
        "print(f\"RNN | F-1 score | Brown Crop | {round(rnn_brown_f1,3)}\")"
      ],
      "execution_count": 32,
      "outputs": [
        {
          "output_type": "stream",
          "text": [
            "\n",
            "\n",
            "RNN | Precision | Movie Plot | 0.842\n",
            "RNN | Precision | Guttenberg | 0.81\n",
            "RNN | Precision | Brown Crop | 0.813\n",
            "\n",
            "\n",
            "RNN | F-1 score | Movie Plot | 0.839\n",
            "RNN | F-1 score | Guttenberg | 0.835\n",
            "RNN | F-1 score | Brown Crop | 0.833\n"
          ],
          "name": "stdout"
        }
      ]
    },
    {
      "cell_type": "markdown",
      "metadata": {
        "id": "7IVUz5dL4Yja"
      },
      "source": [
        "## Evaluating HMM Outputs"
      ]
    },
    {
      "cell_type": "code",
      "metadata": {
        "id": "0lYzrGhT0924"
      },
      "source": [
        "temp = open(\"test_gen_gutten.pickle\",\"rb\")\n",
        "gen_test_gutten = pickle.load(temp)\n",
        "gen_test_gutten = [\" \".join(item) for item in gen_test_gutten]\n",
        "\n",
        "temp = open(\"test_gen_brown.pickle\",\"rb\")\n",
        "gen_test_brown = pickle.load(temp)\n",
        "gen_test_brown = [\" \".join(item) for item in gen_test_brown]\n",
        "\n",
        "temp = open(\"test_gen_plot_unrestricted.pickle\",\"rb\")\n",
        "gen_test_plot = pickle.load(temp)\n",
        "gen_test_plot = [\" \".join(item) for item in gen_test_plot]\n",
        "\n",
        "temp = open(\"test_orig_gutten.pickle\",\"rb\")\n",
        "test_gutten = pickle.load(temp)\n",
        "\n",
        "temp = open('test_orig_plot.pickle','rb')\n",
        "test_plot = pickle.load(temp)\n",
        "\n",
        "temp = open(\"test_orig_brown.pickle\",\"rb\")\n",
        "test_brown = pickle.load(temp)"
      ],
      "execution_count": 4,
      "outputs": []
    },
    {
      "cell_type": "code",
      "metadata": {
        "id": "WXVrizsc45dr"
      },
      "source": [
        "bertscore_gutten_gen = load_metric('bertscore')\n",
        "bertscore_gutten_gen.add_batch(predictions=gen_test_gutten, references=test_gutten)\n",
        "gen_gutt_precision =  torch.mean(bertscore_gutten_gen.compute(lang='en')['precision']).item()\n",
        "bertscore_gutten_gen = load_metric('bertscore')\n",
        "bertscore_gutten_gen.add_batch(predictions=gen_test_gutten, references=test_gutten)\n",
        "gen_gutt_f1 =  torch.mean(bertscore_gutten_gen.compute(lang='en')['f1']).item()"
      ],
      "execution_count": 5,
      "outputs": []
    },
    {
      "cell_type": "code",
      "metadata": {
        "id": "MxZx1HmY6bHr"
      },
      "source": [
        "bertscore_brown_gen = load_metric('bertscore')\n",
        "bertscore_brown_gen.add_batch(predictions=gen_test_brown, references=test_brown)\n",
        "gen_brown_precision =  torch.mean(bertscore_brown_gen.compute(lang='en')['precision']).item()\n",
        "bertscore_brown_gen = load_metric('bertscore')\n",
        "bertscore_brown_gen.add_batch(predictions=gen_test_brown, references=test_brown)\n",
        "gen_brown_f1 =  torch.mean(bertscore_brown_gen.compute(lang='en')['f1']).item()"
      ],
      "execution_count": 6,
      "outputs": []
    },
    {
      "cell_type": "code",
      "metadata": {
        "id": "pwafdjNU6wTd"
      },
      "source": [
        "bertscore_plot_gen = load_metric('bertscore')\n",
        "bertscore_plot_gen.add_batch(predictions=gen_test_plot, references=test_plot)\n",
        "gen_plot_precision =  torch.mean(bertscore_plot_gen.compute(lang='en')['precision']).item()\n",
        "bertscore_plot_gen = load_metric('bertscore')\n",
        "bertscore_plot_gen.add_batch(predictions=gen_test_plot, references=test_plot)\n",
        "gen_plot_f1 =  torch.mean(bertscore_plot_gen.compute(lang='en')['f1']).item()"
      ],
      "execution_count": 7,
      "outputs": []
    },
    {
      "cell_type": "code",
      "metadata": {
        "colab": {
          "base_uri": "https://localhost:8080/"
        },
        "id": "Gmui69BR8a1V",
        "outputId": "ae5e86ba-59c0-4291-c048-4d3483391e66"
      },
      "source": [
        "print(\"\\n\")\n",
        "print(f\"Generative | Precision | Movie Plot | {round(gen_plot_precision,3)}\")\n",
        "print(f\"Generative | Precision | Guttenberg | {round(gen_gutt_precision,3)}\")\n",
        "print(f\"Generative | Precision | Brown Crop | {round(gen_brown_precision,3)}\")\n",
        "print(\"\\n\")\n",
        "print(f\"Generative | F-1 score | Movie Plot | {round(gen_plot_f1,3)}\")\n",
        "print(f\"Generative | F-1 score | Guttenberg | {round(gen_gutt_f1,3)}\")\n",
        "print(f\"Generative | F-1 score | Brown Crop | {round(gen_brown_f1,3)}\")"
      ],
      "execution_count": 9,
      "outputs": [
        {
          "output_type": "stream",
          "text": [
            "\n",
            "\n",
            "Generative | Precision | Movie Plot | 0.846\n",
            "Generative | Precision | Guttenberg | 1.0\n",
            "Generative | Precision | Brown Crop | 0.851\n",
            "\n",
            "\n",
            "Generative | F-1 score | Movie Plot | 0.852\n",
            "Generative | F-1 score | Guttenberg | 1.0\n",
            "Generative | F-1 score | Brown Crop | 0.853\n"
          ],
          "name": "stdout"
        }
      ]
    },
    {
      "cell_type": "markdown",
      "metadata": {
        "id": "ZugFWjn5zH2p"
      },
      "source": [
        "*****"
      ]
    }
  ]
}